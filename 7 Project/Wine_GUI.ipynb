{
 "cells": [
  {
   "cell_type": "code",
   "execution_count": 1,
   "metadata": {},
   "outputs": [],
   "source": [
    "# Wine quality categorization system\n",
    "\n",
    "from tkinter import *\n",
    "import tkinter.messagebox\n",
    "import numpy as np\n",
    "import matplotlib.pyplot as plt\n",
    "from matplotlib.backends.backend_tkagg import (FigureCanvasTkAgg, \n",
    "NavigationToolbar2Tk)"
   ]
  },
  {
   "cell_type": "code",
   "execution_count": 2,
   "metadata": {},
   "outputs": [
    {
     "name": "stderr",
     "output_type": "stream",
     "text": [
      "/home/mitu/.local/lib/python3.8/site-packages/sklearn/base.py:450: UserWarning: X does not have valid feature names, but MinMaxScaler was fitted with feature names\n",
      "  warnings.warn(\n"
     ]
    }
   ],
   "source": [
    "top = Tk()\n",
    "top.title('Wine Quality Categorization System')\n",
    "top.geometry(\"900x500\")\n",
    "top.resizable(0, 0) \n",
    "\n",
    "import joblib  \n",
    "# Deserialization\n",
    "classifier = joblib.load('classifier.model')\n",
    "scaler = joblib.load('scaler.model')\n",
    "\n",
    "def check():\n",
    "    global a, m, f, c, p\n",
    "    new = np.array([[a.get(), m.get(), f.get(), c.get(), p.get()]])\n",
    "    y_pred = classifier.predict(scaler.transform(new))\n",
    "    if y_pred[0] == 1:\n",
    "        tkinter.messagebox.showinfo('Result','This is Quality 1 Wine')\n",
    "    elif y_pred[0] == 2:\n",
    "        tkinter.messagebox.showinfo('Result','This is Quality 2 Wine')\n",
    "    elif y_pred[0] == 3:\n",
    "        tkinter.messagebox.showinfo('Result','This is Quality 3 Wine')\n",
    "\n",
    "a = DoubleVar()\n",
    "m = DoubleVar()\n",
    "f = DoubleVar()\n",
    "c = DoubleVar()\n",
    "p = DoubleVar()\n",
    "\n",
    "Label(top, text=\"WINE QUALITY DETECTION SYSTEM\", \n",
    "      font=('Ubuntu', 25)).place(x=120,y=30)\n",
    "Label(top, text=\"proanthocyanins:\", \n",
    "      font=('courier', 16)).place(x=20,y=100)\n",
    "Entry(top, textvariable=a, font=('courier', 16)).place(x=280,y=100)\n",
    "Label(top, text=\"color_intensity:\", font=('courier', 16)).place(x=20,y=150)\n",
    "Entry(top, textvariable=m, font=('courier', 16)).place(x=280,y=150)\n",
    "Label(top, text=\"hue:\", font=('courier', 16)).place(x=20,y=200)\n",
    "Entry(top, textvariable=f, font=('courier', 16)).place(x=280,y=200)\n",
    "Label(top, text=\"od280/od315_of_diluted_wines\", \n",
    "      font=('courier', 16)).place(x=20,y=250)\n",
    "Entry(top, textvariable=c, font=('ccheckourier', 16)).place(x=280,y=250)\n",
    "Label(top, text=\"proline\", font=('courier', 16)).place(x=20,y=300)\n",
    "Entry(top, textvariable=p, font=('courier', 16)).place(x=280,y=300)\n",
    "\n",
    "Button(top, text=\"--Check--\", \n",
    "       font=('courier', 16, 'bold'), command=check).place(x=250,y=400)\n",
    "\n",
    "from PIL import ImageTk, Image  # !pip install pillow\n",
    "img = ImageTk.PhotoImage(Image.open(\"wine.png\"))\n",
    "Label(top, image = img).place(x=550,y=100)\n",
    "\n",
    "top.mainloop()"
   ]
  },
  {
   "cell_type": "code",
   "execution_count": null,
   "metadata": {},
   "outputs": [],
   "source": [
    "!pip install scikit-learn -U"
   ]
  },
  {
   "cell_type": "code",
   "execution_count": null,
   "metadata": {},
   "outputs": [],
   "source": []
  }
 ],
 "metadata": {
  "kernelspec": {
   "display_name": "Python 3",
   "language": "python",
   "name": "python3"
  },
  "language_info": {
   "codemirror_mode": {
    "name": "ipython",
    "version": 3
   },
   "file_extension": ".py",
   "mimetype": "text/x-python",
   "name": "python",
   "nbconvert_exporter": "python",
   "pygments_lexer": "ipython3",
   "version": "3.8.10"
  }
 },
 "nbformat": 4,
 "nbformat_minor": 4
}
