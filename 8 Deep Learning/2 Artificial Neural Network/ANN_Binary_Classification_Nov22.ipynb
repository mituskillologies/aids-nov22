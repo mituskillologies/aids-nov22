{
 "cells": [
  {
   "cell_type": "code",
   "execution_count": 1,
   "id": "5e063a0b",
   "metadata": {},
   "outputs": [],
   "source": [
    "# ANN Basic Binary Classification\n",
    "# Dataset: pima-new.csv\n",
    "# Location: https://mitu.co.in/dataset"
   ]
  },
  {
   "cell_type": "markdown",
   "id": "8bca3c0b",
   "metadata": {},
   "source": [
    "### Import libraries"
   ]
  },
  {
   "cell_type": "code",
   "execution_count": 2,
   "id": "bbb48661",
   "metadata": {},
   "outputs": [],
   "source": [
    "import numpy as np"
   ]
  },
  {
   "cell_type": "markdown",
   "id": "8bab12b1",
   "metadata": {},
   "source": [
    "### Import Dataset"
   ]
  },
  {
   "cell_type": "code",
   "execution_count": 5,
   "id": "2ae880a1",
   "metadata": {},
   "outputs": [],
   "source": [
    "df = np.loadtxt('pima-new.csv', delimiter=',')"
   ]
  },
  {
   "cell_type": "code",
   "execution_count": 6,
   "id": "c8c85bf5",
   "metadata": {},
   "outputs": [
    {
     "data": {
      "text/plain": [
       "array([[  6.   , 148.   ,  72.   , ...,   0.627,  50.   ,   1.   ],\n",
       "       [  1.   ,  85.   ,  66.   , ...,   0.351,  31.   ,   0.   ],\n",
       "       [  8.   , 183.   ,  64.   , ...,   0.672,  32.   ,   1.   ],\n",
       "       ...,\n",
       "       [  5.   , 121.   ,  72.   , ...,   0.245,  30.   ,   0.   ],\n",
       "       [  1.   , 126.   ,  60.   , ...,   0.349,  47.   ,   1.   ],\n",
       "       [  1.   ,  93.   ,  70.   , ...,   0.315,  23.   ,   0.   ]])"
      ]
     },
     "execution_count": 6,
     "metadata": {},
     "output_type": "execute_result"
    }
   ],
   "source": [
    "df"
   ]
  },
  {
   "cell_type": "code",
   "execution_count": 7,
   "id": "cd32bd9f",
   "metadata": {},
   "outputs": [
    {
     "data": {
      "text/plain": [
       "(768, 9)"
      ]
     },
     "execution_count": 7,
     "metadata": {},
     "output_type": "execute_result"
    }
   ],
   "source": [
    "df.shape"
   ]
  },
  {
   "cell_type": "markdown",
   "id": "f3dc8e84",
   "metadata": {},
   "source": [
    "### Separate input and output data"
   ]
  },
  {
   "cell_type": "code",
   "execution_count": 11,
   "id": "b9f86f8c",
   "metadata": {},
   "outputs": [],
   "source": [
    "x = df[:,:8]\n",
    "\n",
    "y = df[:,8]"
   ]
  },
  {
   "cell_type": "code",
   "execution_count": 12,
   "id": "addd9c97",
   "metadata": {},
   "outputs": [
    {
     "data": {
      "text/plain": [
       "array([[  6.   , 148.   ,  72.   , ...,  33.6  ,   0.627,  50.   ],\n",
       "       [  1.   ,  85.   ,  66.   , ...,  26.6  ,   0.351,  31.   ],\n",
       "       [  8.   , 183.   ,  64.   , ...,  23.3  ,   0.672,  32.   ],\n",
       "       ...,\n",
       "       [  5.   , 121.   ,  72.   , ...,  26.2  ,   0.245,  30.   ],\n",
       "       [  1.   , 126.   ,  60.   , ...,  30.1  ,   0.349,  47.   ],\n",
       "       [  1.   ,  93.   ,  70.   , ...,  30.4  ,   0.315,  23.   ]])"
      ]
     },
     "execution_count": 12,
     "metadata": {},
     "output_type": "execute_result"
    }
   ],
   "source": [
    "x"
   ]
  },
  {
   "cell_type": "code",
   "execution_count": 13,
   "id": "fedd2e6b",
   "metadata": {},
   "outputs": [
    {
     "data": {
      "text/plain": [
       "array([1., 0., 1., 0., 1., 0., 1., 0., 1., 1., 0., 1., 0., 1., 1., 1., 1.,\n",
       "       1., 0., 1., 0., 0., 1., 1., 1., 1., 1., 0., 0., 0., 0., 1., 0., 0.,\n",
       "       0., 0., 0., 1., 1., 1., 0., 0., 0., 1., 0., 1., 0., 0., 1., 0., 0.,\n",
       "       0., 0., 1., 0., 0., 1., 0., 0., 0., 0., 1., 0., 0., 1., 0., 1., 0.,\n",
       "       0., 0., 1., 0., 1., 0., 0., 0., 0., 0., 1., 0., 0., 0., 0., 0., 1.,\n",
       "       0., 0., 0., 1., 0., 0., 0., 0., 1., 0., 0., 0., 0., 0., 1., 1., 0.,\n",
       "       0., 0., 0., 0., 0., 0., 0., 1., 1., 1., 0., 0., 1., 1., 1., 0., 0.,\n",
       "       0., 1., 0., 0., 0., 1., 1., 0., 0., 1., 1., 1., 1., 1., 0., 0., 0.,\n",
       "       0., 0., 0., 0., 0., 0., 0., 1., 0., 0., 0., 0., 0., 0., 0., 0., 1.,\n",
       "       0., 1., 1., 0., 0., 0., 1., 0., 0., 0., 0., 1., 1., 0., 0., 0., 0.,\n",
       "       1., 1., 0., 0., 0., 1., 0., 1., 0., 1., 0., 0., 0., 0., 0., 1., 1.,\n",
       "       1., 1., 1., 0., 0., 1., 1., 0., 1., 0., 1., 1., 1., 0., 0., 0., 0.,\n",
       "       0., 0., 1., 1., 0., 1., 0., 0., 0., 1., 1., 1., 1., 0., 1., 1., 1.,\n",
       "       1., 0., 0., 0., 0., 0., 1., 0., 0., 1., 1., 0., 0., 0., 1., 1., 1.,\n",
       "       1., 0., 0., 0., 1., 1., 0., 1., 0., 0., 0., 0., 0., 0., 0., 0., 1.,\n",
       "       1., 0., 0., 0., 1., 0., 1., 0., 0., 1., 0., 1., 0., 0., 1., 1., 0.,\n",
       "       0., 0., 0., 0., 1., 0., 0., 0., 1., 0., 0., 1., 1., 0., 0., 1., 0.,\n",
       "       0., 0., 1., 1., 1., 0., 0., 1., 0., 1., 0., 1., 1., 0., 1., 0., 0.,\n",
       "       1., 0., 1., 1., 0., 0., 1., 0., 1., 0., 0., 1., 0., 1., 0., 1., 1.,\n",
       "       1., 0., 0., 1., 0., 1., 0., 0., 0., 1., 0., 0., 0., 0., 1., 1., 1.,\n",
       "       0., 0., 0., 0., 0., 0., 0., 0., 0., 1., 0., 0., 0., 0., 0., 1., 1.,\n",
       "       1., 0., 1., 1., 0., 0., 1., 0., 0., 1., 0., 0., 1., 1., 0., 0., 0.,\n",
       "       0., 1., 0., 0., 1., 0., 0., 0., 0., 0., 0., 0., 1., 1., 1., 0., 0.,\n",
       "       1., 0., 0., 1., 0., 0., 1., 0., 1., 1., 0., 1., 0., 1., 0., 1., 0.,\n",
       "       1., 1., 0., 0., 0., 0., 1., 1., 0., 1., 0., 1., 0., 0., 0., 0., 1.,\n",
       "       1., 0., 1., 0., 1., 0., 0., 0., 0., 0., 1., 0., 0., 0., 0., 1., 0.,\n",
       "       0., 1., 1., 1., 0., 0., 1., 0., 0., 1., 0., 0., 0., 1., 0., 0., 1.,\n",
       "       0., 0., 0., 0., 0., 0., 0., 0., 0., 1., 0., 0., 0., 0., 0., 0., 0.,\n",
       "       1., 0., 0., 0., 1., 0., 0., 0., 1., 1., 0., 0., 0., 0., 0., 0., 0.,\n",
       "       1., 0., 0., 0., 0., 1., 0., 0., 0., 1., 0., 0., 0., 1., 0., 0., 0.,\n",
       "       1., 0., 0., 0., 0., 1., 1., 0., 0., 0., 0., 0., 0., 1., 0., 0., 0.,\n",
       "       0., 0., 0., 0., 0., 0., 0., 0., 1., 0., 0., 0., 1., 1., 1., 1., 0.,\n",
       "       0., 1., 1., 0., 0., 0., 0., 0., 0., 0., 0., 0., 0., 0., 0., 0., 1.,\n",
       "       1., 0., 0., 0., 0., 0., 0., 0., 1., 0., 0., 0., 0., 0., 0., 0., 1.,\n",
       "       0., 1., 1., 0., 0., 0., 1., 0., 1., 0., 1., 0., 1., 0., 1., 0., 0.,\n",
       "       1., 0., 0., 1., 0., 0., 0., 0., 1., 1., 0., 1., 0., 0., 0., 0., 1.,\n",
       "       1., 0., 1., 0., 0., 0., 1., 1., 0., 0., 0., 0., 0., 0., 0., 0., 0.,\n",
       "       0., 1., 0., 0., 0., 0., 1., 0., 0., 1., 0., 0., 0., 1., 0., 0., 0.,\n",
       "       1., 1., 1., 0., 0., 0., 0., 0., 0., 1., 0., 0., 0., 1., 0., 1., 1.,\n",
       "       1., 1., 0., 1., 1., 0., 0., 0., 0., 0., 0., 0., 1., 1., 0., 1., 0.,\n",
       "       0., 1., 0., 1., 0., 0., 0., 0., 0., 1., 0., 1., 0., 1., 0., 1., 1.,\n",
       "       0., 0., 0., 0., 1., 1., 0., 0., 0., 1., 0., 1., 1., 0., 0., 1., 0.,\n",
       "       0., 1., 1., 0., 0., 1., 0., 0., 1., 0., 0., 0., 0., 0., 0., 0., 1.,\n",
       "       1., 1., 0., 0., 0., 0., 0., 0., 1., 1., 0., 0., 1., 0., 0., 1., 0.,\n",
       "       1., 1., 1., 0., 0., 1., 1., 1., 0., 1., 0., 1., 0., 1., 0., 0., 0.,\n",
       "       0., 1., 0.])"
      ]
     },
     "execution_count": 13,
     "metadata": {},
     "output_type": "execute_result"
    }
   ],
   "source": [
    "y"
   ]
  },
  {
   "cell_type": "code",
   "execution_count": 14,
   "id": "82110750",
   "metadata": {},
   "outputs": [
    {
     "data": {
      "text/plain": [
       "Counter({1.0: 268, 0.0: 500})"
      ]
     },
     "execution_count": 14,
     "metadata": {},
     "output_type": "execute_result"
    }
   ],
   "source": [
    "# Count number of classes in each category\n",
    "from collections import Counter\n",
    "Counter(y)"
   ]
  },
  {
   "cell_type": "markdown",
   "id": "7536e342",
   "metadata": {},
   "source": [
    "### Import the Keras classes"
   ]
  },
  {
   "cell_type": "code",
   "execution_count": 16,
   "id": "bcb06e6e",
   "metadata": {},
   "outputs": [],
   "source": [
    "from keras.models import Sequential\n",
    "from keras.layers import Dense"
   ]
  },
  {
   "cell_type": "markdown",
   "id": "2ab12a42",
   "metadata": {},
   "source": [
    "### Create the neural network model"
   ]
  },
  {
   "cell_type": "code",
   "execution_count": 20,
   "id": "55ce4aa5",
   "metadata": {},
   "outputs": [],
   "source": [
    "# Create the model object\n",
    "model = Sequential()\n",
    "\n",
    "# add the input layer\n",
    "model.add(Dense(8, input_shape=(8,)))\n",
    "\n",
    "# add hidden layer\n",
    "model.add(Dense(16, activation='relu'))\n",
    "\n",
    "# add output layer\n",
    "model.add(Dense(1, activation='sigmoid'))"
   ]
  },
  {
   "cell_type": "code",
   "execution_count": 21,
   "id": "7a5d098e",
   "metadata": {},
   "outputs": [
    {
     "name": "stdout",
     "output_type": "stream",
     "text": [
      "Model: \"sequential_2\"\n",
      "_________________________________________________________________\n",
      " Layer (type)                Output Shape              Param #   \n",
      "=================================================================\n",
      " dense_3 (Dense)             (None, 8)                 72        \n",
      "                                                                 \n",
      " dense_4 (Dense)             (None, 16)                144       \n",
      "                                                                 \n",
      " dense_5 (Dense)             (None, 1)                 17        \n",
      "                                                                 \n",
      "=================================================================\n",
      "Total params: 233\n",
      "Trainable params: 233\n",
      "Non-trainable params: 0\n",
      "_________________________________________________________________\n"
     ]
    }
   ],
   "source": [
    "model.summary()"
   ]
  },
  {
   "cell_type": "markdown",
   "id": "38d3b95c",
   "metadata": {},
   "source": [
    "### Compile the model"
   ]
  },
  {
   "cell_type": "code",
   "execution_count": 23,
   "id": "cb532719",
   "metadata": {},
   "outputs": [],
   "source": [
    "model.compile(loss='binary_crossentropy', optimizer='adam',\n",
    "             metrics=['accuracy'])"
   ]
  },
  {
   "cell_type": "markdown",
   "id": "3ffc4d33",
   "metadata": {},
   "source": [
    "### Train the model"
   ]
  },
  {
   "cell_type": "code",
   "execution_count": 26,
   "id": "a509d6b6",
   "metadata": {},
   "outputs": [
    {
     "name": "stdout",
     "output_type": "stream",
     "text": [
      "Epoch 1/100\n",
      "77/77 [==============================] - 0s 3ms/step - loss: 0.5455 - accuracy: 0.7292\n",
      "Epoch 2/100\n",
      "77/77 [==============================] - 0s 3ms/step - loss: 0.5670 - accuracy: 0.7253\n",
      "Epoch 3/100\n",
      "77/77 [==============================] - 0s 3ms/step - loss: 0.5423 - accuracy: 0.7526\n",
      "Epoch 4/100\n",
      "77/77 [==============================] - 0s 3ms/step - loss: 0.5638 - accuracy: 0.7240\n",
      "Epoch 5/100\n",
      "77/77 [==============================] - 0s 3ms/step - loss: 0.5620 - accuracy: 0.7253\n",
      "Epoch 6/100\n",
      "77/77 [==============================] - 0s 3ms/step - loss: 0.5394 - accuracy: 0.7448\n",
      "Epoch 7/100\n",
      "77/77 [==============================] - 0s 3ms/step - loss: 0.5589 - accuracy: 0.7409\n",
      "Epoch 8/100\n",
      "77/77 [==============================] - 0s 3ms/step - loss: 0.5574 - accuracy: 0.7422\n",
      "Epoch 9/100\n",
      "77/77 [==============================] - 0s 3ms/step - loss: 0.5411 - accuracy: 0.7370\n",
      "Epoch 10/100\n",
      "77/77 [==============================] - 0s 3ms/step - loss: 0.5349 - accuracy: 0.7409\n",
      "Epoch 11/100\n",
      "77/77 [==============================] - 0s 3ms/step - loss: 0.5379 - accuracy: 0.7344\n",
      "Epoch 12/100\n",
      "77/77 [==============================] - 0s 3ms/step - loss: 0.5266 - accuracy: 0.7487\n",
      "Epoch 13/100\n",
      "77/77 [==============================] - 0s 3ms/step - loss: 0.5518 - accuracy: 0.7370\n",
      "Epoch 14/100\n",
      "77/77 [==============================] - 0s 3ms/step - loss: 0.5886 - accuracy: 0.7135\n",
      "Epoch 15/100\n",
      "77/77 [==============================] - 0s 3ms/step - loss: 0.5436 - accuracy: 0.7383\n",
      "Epoch 16/100\n",
      "77/77 [==============================] - 0s 3ms/step - loss: 0.5118 - accuracy: 0.7526\n",
      "Epoch 17/100\n",
      "77/77 [==============================] - 0s 3ms/step - loss: 0.5282 - accuracy: 0.7474\n",
      "Epoch 18/100\n",
      "77/77 [==============================] - 0s 3ms/step - loss: 0.5454 - accuracy: 0.7422\n",
      "Epoch 19/100\n",
      "77/77 [==============================] - 0s 3ms/step - loss: 0.5184 - accuracy: 0.7565\n",
      "Epoch 20/100\n",
      "77/77 [==============================] - 0s 3ms/step - loss: 0.5362 - accuracy: 0.7188\n",
      "Epoch 21/100\n",
      "77/77 [==============================] - 0s 3ms/step - loss: 0.5222 - accuracy: 0.7565\n",
      "Epoch 22/100\n",
      "77/77 [==============================] - 0s 3ms/step - loss: 0.5294 - accuracy: 0.7526\n",
      "Epoch 23/100\n",
      "77/77 [==============================] - 0s 3ms/step - loss: 0.5213 - accuracy: 0.7565\n",
      "Epoch 24/100\n",
      "77/77 [==============================] - 0s 3ms/step - loss: 0.5239 - accuracy: 0.7617\n",
      "Epoch 25/100\n",
      "77/77 [==============================] - 0s 3ms/step - loss: 0.5223 - accuracy: 0.7526\n",
      "Epoch 26/100\n",
      "77/77 [==============================] - 0s 3ms/step - loss: 0.5162 - accuracy: 0.7526\n",
      "Epoch 27/100\n",
      "77/77 [==============================] - 0s 3ms/step - loss: 0.5248 - accuracy: 0.7409\n",
      "Epoch 28/100\n",
      "77/77 [==============================] - 0s 3ms/step - loss: 0.5257 - accuracy: 0.7435\n",
      "Epoch 29/100\n",
      "77/77 [==============================] - 0s 3ms/step - loss: 0.5281 - accuracy: 0.7539\n",
      "Epoch 30/100\n",
      "77/77 [==============================] - 0s 3ms/step - loss: 0.5478 - accuracy: 0.7331\n",
      "Epoch 31/100\n",
      "77/77 [==============================] - 0s 3ms/step - loss: 0.5287 - accuracy: 0.7565\n",
      "Epoch 32/100\n",
      "77/77 [==============================] - 0s 3ms/step - loss: 0.5438 - accuracy: 0.7331\n",
      "Epoch 33/100\n",
      "77/77 [==============================] - 0s 3ms/step - loss: 0.5468 - accuracy: 0.7370\n",
      "Epoch 34/100\n",
      "77/77 [==============================] - 0s 3ms/step - loss: 0.5400 - accuracy: 0.7409\n",
      "Epoch 35/100\n",
      "77/77 [==============================] - 0s 3ms/step - loss: 0.5610 - accuracy: 0.7305\n",
      "Epoch 36/100\n",
      "77/77 [==============================] - 0s 3ms/step - loss: 0.5185 - accuracy: 0.7383\n",
      "Epoch 37/100\n",
      "77/77 [==============================] - 0s 2ms/step - loss: 0.5520 - accuracy: 0.7344\n",
      "Epoch 38/100\n",
      "77/77 [==============================] - 0s 3ms/step - loss: 0.5114 - accuracy: 0.7552\n",
      "Epoch 39/100\n",
      "77/77 [==============================] - 0s 3ms/step - loss: 0.5063 - accuracy: 0.7539\n",
      "Epoch 40/100\n",
      "77/77 [==============================] - 0s 3ms/step - loss: 0.5093 - accuracy: 0.7643\n",
      "Epoch 41/100\n",
      "77/77 [==============================] - 0s 3ms/step - loss: 0.5137 - accuracy: 0.7578\n",
      "Epoch 42/100\n",
      "77/77 [==============================] - 0s 3ms/step - loss: 0.5407 - accuracy: 0.7318\n",
      "Epoch 43/100\n",
      "77/77 [==============================] - 0s 3ms/step - loss: 0.5190 - accuracy: 0.7552\n",
      "Epoch 44/100\n",
      "77/77 [==============================] - 0s 3ms/step - loss: 0.5177 - accuracy: 0.7526\n",
      "Epoch 45/100\n",
      "77/77 [==============================] - 0s 3ms/step - loss: 0.5043 - accuracy: 0.7487\n",
      "Epoch 46/100\n",
      "77/77 [==============================] - 0s 3ms/step - loss: 0.5111 - accuracy: 0.7474\n",
      "Epoch 47/100\n",
      "77/77 [==============================] - 0s 3ms/step - loss: 0.5178 - accuracy: 0.7656\n",
      "Epoch 48/100\n",
      "77/77 [==============================] - 0s 3ms/step - loss: 0.5139 - accuracy: 0.7552\n",
      "Epoch 49/100\n",
      "77/77 [==============================] - 0s 3ms/step - loss: 0.5185 - accuracy: 0.7578\n",
      "Epoch 50/100\n",
      "77/77 [==============================] - 0s 3ms/step - loss: 0.5109 - accuracy: 0.7656\n",
      "Epoch 51/100\n",
      "77/77 [==============================] - 0s 3ms/step - loss: 0.5191 - accuracy: 0.7500\n",
      "Epoch 52/100\n",
      "77/77 [==============================] - 0s 3ms/step - loss: 0.5009 - accuracy: 0.7591\n",
      "Epoch 53/100\n",
      "77/77 [==============================] - 0s 3ms/step - loss: 0.5156 - accuracy: 0.7591\n",
      "Epoch 54/100\n",
      "77/77 [==============================] - 0s 3ms/step - loss: 0.5146 - accuracy: 0.7604\n",
      "Epoch 55/100\n",
      "77/77 [==============================] - 0s 3ms/step - loss: 0.5261 - accuracy: 0.7591\n",
      "Epoch 56/100\n",
      "77/77 [==============================] - 0s 3ms/step - loss: 0.5263 - accuracy: 0.7500\n",
      "Epoch 57/100\n",
      "77/77 [==============================] - 0s 3ms/step - loss: 0.5196 - accuracy: 0.7552\n",
      "Epoch 58/100\n",
      "77/77 [==============================] - 0s 3ms/step - loss: 0.5427 - accuracy: 0.7461\n",
      "Epoch 59/100\n",
      "77/77 [==============================] - 0s 3ms/step - loss: 0.5348 - accuracy: 0.7396\n",
      "Epoch 60/100\n",
      "77/77 [==============================] - 0s 3ms/step - loss: 0.5463 - accuracy: 0.7357\n",
      "Epoch 61/100\n",
      "77/77 [==============================] - 0s 3ms/step - loss: 0.5165 - accuracy: 0.7565\n",
      "Epoch 62/100\n",
      "77/77 [==============================] - 0s 3ms/step - loss: 0.5216 - accuracy: 0.7474\n",
      "Epoch 63/100\n",
      "77/77 [==============================] - 0s 4ms/step - loss: 0.5014 - accuracy: 0.7578\n",
      "Epoch 64/100\n",
      "77/77 [==============================] - 0s 3ms/step - loss: 0.5172 - accuracy: 0.7721\n",
      "Epoch 65/100\n",
      "77/77 [==============================] - 0s 3ms/step - loss: 0.5200 - accuracy: 0.7591\n",
      "Epoch 66/100\n",
      "77/77 [==============================] - 0s 3ms/step - loss: 0.5080 - accuracy: 0.7487\n",
      "Epoch 67/100\n",
      "77/77 [==============================] - 0s 3ms/step - loss: 0.5076 - accuracy: 0.7617\n",
      "Epoch 68/100\n",
      "77/77 [==============================] - 0s 3ms/step - loss: 0.5025 - accuracy: 0.7617\n",
      "Epoch 69/100\n",
      "77/77 [==============================] - 0s 3ms/step - loss: 0.5018 - accuracy: 0.7630\n",
      "Epoch 70/100\n",
      "77/77 [==============================] - 0s 3ms/step - loss: 0.5009 - accuracy: 0.7708\n",
      "Epoch 71/100\n",
      "77/77 [==============================] - 0s 3ms/step - loss: 0.5099 - accuracy: 0.7617\n",
      "Epoch 72/100\n",
      "77/77 [==============================] - 0s 3ms/step - loss: 0.5000 - accuracy: 0.7617\n",
      "Epoch 73/100\n",
      "77/77 [==============================] - 0s 3ms/step - loss: 0.4980 - accuracy: 0.7617\n",
      "Epoch 74/100\n",
      "77/77 [==============================] - 0s 2ms/step - loss: 0.4920 - accuracy: 0.7643\n",
      "Epoch 75/100\n",
      "77/77 [==============================] - 0s 3ms/step - loss: 0.5079 - accuracy: 0.7617\n",
      "Epoch 76/100\n",
      "77/77 [==============================] - 0s 3ms/step - loss: 0.5175 - accuracy: 0.7240\n",
      "Epoch 77/100\n",
      "77/77 [==============================] - 0s 3ms/step - loss: 0.4863 - accuracy: 0.7721\n",
      "Epoch 78/100\n",
      "77/77 [==============================] - 0s 3ms/step - loss: 0.4967 - accuracy: 0.7578\n",
      "Epoch 79/100\n",
      "77/77 [==============================] - 0s 3ms/step - loss: 0.4975 - accuracy: 0.7617\n",
      "Epoch 80/100\n",
      "77/77 [==============================] - 0s 3ms/step - loss: 0.4837 - accuracy: 0.7669\n",
      "Epoch 81/100\n",
      "77/77 [==============================] - 0s 3ms/step - loss: 0.4876 - accuracy: 0.7630\n",
      "Epoch 82/100\n",
      "77/77 [==============================] - 0s 3ms/step - loss: 0.5118 - accuracy: 0.7826\n",
      "Epoch 83/100\n"
     ]
    },
    {
     "name": "stdout",
     "output_type": "stream",
     "text": [
      "77/77 [==============================] - 0s 2ms/step - loss: 0.5084 - accuracy: 0.7578\n",
      "Epoch 84/100\n",
      "77/77 [==============================] - 0s 2ms/step - loss: 0.5071 - accuracy: 0.7591\n",
      "Epoch 85/100\n",
      "77/77 [==============================] - 0s 2ms/step - loss: 0.4831 - accuracy: 0.7721\n",
      "Epoch 86/100\n",
      "77/77 [==============================] - 0s 2ms/step - loss: 0.4981 - accuracy: 0.7656\n",
      "Epoch 87/100\n",
      "77/77 [==============================] - 0s 2ms/step - loss: 0.5001 - accuracy: 0.7578\n",
      "Epoch 88/100\n",
      "77/77 [==============================] - 0s 2ms/step - loss: 0.5077 - accuracy: 0.7565\n",
      "Epoch 89/100\n",
      "77/77 [==============================] - 0s 2ms/step - loss: 0.4869 - accuracy: 0.7760\n",
      "Epoch 90/100\n",
      "77/77 [==============================] - 0s 2ms/step - loss: 0.4867 - accuracy: 0.7839\n",
      "Epoch 91/100\n",
      "77/77 [==============================] - 0s 2ms/step - loss: 0.4841 - accuracy: 0.7799\n",
      "Epoch 92/100\n",
      "77/77 [==============================] - 0s 2ms/step - loss: 0.5012 - accuracy: 0.7552\n",
      "Epoch 93/100\n",
      "77/77 [==============================] - 0s 2ms/step - loss: 0.4822 - accuracy: 0.7643\n",
      "Epoch 94/100\n",
      "77/77 [==============================] - 0s 3ms/step - loss: 0.4943 - accuracy: 0.7565\n",
      "Epoch 95/100\n",
      "77/77 [==============================] - 0s 2ms/step - loss: 0.5014 - accuracy: 0.7760\n",
      "Epoch 96/100\n",
      "77/77 [==============================] - 0s 2ms/step - loss: 0.4991 - accuracy: 0.7500\n",
      "Epoch 97/100\n",
      "77/77 [==============================] - 0s 2ms/step - loss: 0.4927 - accuracy: 0.7812\n",
      "Epoch 98/100\n",
      "77/77 [==============================] - 0s 2ms/step - loss: 0.4847 - accuracy: 0.7734\n",
      "Epoch 99/100\n",
      "77/77 [==============================] - 0s 2ms/step - loss: 0.4872 - accuracy: 0.7526\n",
      "Epoch 100/100\n",
      "77/77 [==============================] - 0s 2ms/step - loss: 0.5005 - accuracy: 0.7708\n"
     ]
    },
    {
     "data": {
      "text/plain": [
       "<keras.callbacks.History at 0x7fee889fd610>"
      ]
     },
     "execution_count": 26,
     "metadata": {},
     "output_type": "execute_result"
    }
   ],
   "source": [
    "model.fit(x, y, epochs=100, batch_size=10)"
   ]
  },
  {
   "cell_type": "markdown",
   "id": "68ed9433",
   "metadata": {},
   "source": [
    "### Evaluate the performance"
   ]
  },
  {
   "cell_type": "code",
   "execution_count": 29,
   "id": "1d38c686",
   "metadata": {},
   "outputs": [
    {
     "name": "stdout",
     "output_type": "stream",
     "text": [
      "77/77 [==============================] - 0s 2ms/step - loss: 0.5107 - accuracy: 0.7656\n"
     ]
    },
    {
     "data": {
      "text/plain": [
       "[0.5106652975082397, 0.765625]"
      ]
     },
     "execution_count": 29,
     "metadata": {},
     "output_type": "execute_result"
    }
   ],
   "source": [
    "model.evaluate(x, y, batch_size=10)"
   ]
  },
  {
   "cell_type": "markdown",
   "id": "2ec56670",
   "metadata": {},
   "source": [
    "### Perform the prediction on usneen data"
   ]
  },
  {
   "cell_type": "code",
   "execution_count": 33,
   "id": "9ada5bf2",
   "metadata": {},
   "outputs": [],
   "source": [
    "new = [[13, 145, 82, 19, 110, 22.2, 0.245, 57]]"
   ]
  },
  {
   "cell_type": "code",
   "execution_count": 36,
   "id": "8d4b8d5e",
   "metadata": {},
   "outputs": [
    {
     "name": "stdout",
     "output_type": "stream",
     "text": [
      "1/1 [==============================] - 0s 54ms/step\n"
     ]
    },
    {
     "data": {
      "text/plain": [
       "0.35950398"
      ]
     },
     "execution_count": 36,
     "metadata": {},
     "output_type": "execute_result"
    }
   ],
   "source": [
    "model.predict(new)[0][0]"
   ]
  },
  {
   "cell_type": "code",
   "execution_count": 37,
   "id": "5dd78eb3",
   "metadata": {},
   "outputs": [
    {
     "data": {
      "text/plain": [
       "0.7281936"
      ]
     },
     "execution_count": 37,
     "metadata": {},
     "output_type": "execute_result"
    }
   ],
   "source": [
    "new2 = [[11, 143, 94, 33, 146, 36.6, 0.254, 51]]\n",
    "model.predict(new2, verbose=False)[0][0]"
   ]
  },
  {
   "cell_type": "code",
   "execution_count": null,
   "id": "fbed8265",
   "metadata": {},
   "outputs": [],
   "source": []
  }
 ],
 "metadata": {
  "kernelspec": {
   "display_name": "Python 3",
   "language": "python",
   "name": "python3"
  },
  "language_info": {
   "codemirror_mode": {
    "name": "ipython",
    "version": 3
   },
   "file_extension": ".py",
   "mimetype": "text/x-python",
   "name": "python",
   "nbconvert_exporter": "python",
   "pygments_lexer": "ipython3",
   "version": "3.8.10"
  }
 },
 "nbformat": 4,
 "nbformat_minor": 5
}
