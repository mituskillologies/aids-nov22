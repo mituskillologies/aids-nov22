{
 "cells": [
  {
   "cell_type": "markdown",
   "id": "7bbb2aad",
   "metadata": {},
   "source": [
    "### Import packages"
   ]
  },
  {
   "cell_type": "code",
   "execution_count": 6,
   "id": "d96398ae",
   "metadata": {},
   "outputs": [],
   "source": [
    "import pandas as pd\n",
    "from keras.models import Sequential\n",
    "from keras.layers import Dense"
   ]
  },
  {
   "cell_type": "markdown",
   "id": "2653675b",
   "metadata": {},
   "source": [
    "### Import the dataset"
   ]
  },
  {
   "cell_type": "code",
   "execution_count": 2,
   "id": "15983b5e",
   "metadata": {},
   "outputs": [],
   "source": [
    "df = pd.read_csv('letterdata.csv')"
   ]
  },
  {
   "cell_type": "code",
   "execution_count": 3,
   "id": "39b2a23a",
   "metadata": {},
   "outputs": [
    {
     "data": {
      "text/plain": [
       "(20000, 17)"
      ]
     },
     "execution_count": 3,
     "metadata": {},
     "output_type": "execute_result"
    }
   ],
   "source": [
    "df.shape"
   ]
  },
  {
   "cell_type": "code",
   "execution_count": 4,
   "id": "82601a01",
   "metadata": {},
   "outputs": [
    {
     "data": {
      "text/plain": [
       "Index(['letter', 'xbox', 'ybox', 'width', 'height', 'onpix', 'xbar', 'ybar',\n",
       "       'x2bar', 'y2bar', 'xybar', 'x2ybar', 'xy2bar', 'xedge', 'xedgey',\n",
       "       'yedge', 'yedgex'],\n",
       "      dtype='object')"
      ]
     },
     "execution_count": 4,
     "metadata": {},
     "output_type": "execute_result"
    }
   ],
   "source": [
    "df.columns"
   ]
  },
  {
   "cell_type": "markdown",
   "id": "75e2af9a",
   "metadata": {},
   "source": [
    "### Decide the input and output variables"
   ]
  },
  {
   "cell_type": "code",
   "execution_count": 9,
   "id": "3fb832b5",
   "metadata": {},
   "outputs": [],
   "source": [
    "x = df.drop('letter', axis = 1)\n",
    "y = df['letter']"
   ]
  },
  {
   "cell_type": "markdown",
   "id": "b3d00dcf",
   "metadata": {},
   "source": [
    "### Label encoding of the output data"
   ]
  },
  {
   "cell_type": "code",
   "execution_count": 11,
   "id": "ec5ff2b5",
   "metadata": {},
   "outputs": [
    {
     "data": {
      "text/plain": [
       "0        T\n",
       "1        I\n",
       "2        D\n",
       "3        N\n",
       "4        G\n",
       "        ..\n",
       "19995    D\n",
       "19996    C\n",
       "19997    T\n",
       "19998    S\n",
       "19999    A\n",
       "Name: letter, Length: 20000, dtype: object"
      ]
     },
     "execution_count": 11,
     "metadata": {},
     "output_type": "execute_result"
    }
   ],
   "source": [
    "y"
   ]
  },
  {
   "cell_type": "code",
   "execution_count": 12,
   "id": "5e8333bf",
   "metadata": {},
   "outputs": [
    {
     "data": {
      "text/plain": [
       "U    813\n",
       "D    805\n",
       "P    803\n",
       "T    796\n",
       "M    792\n",
       "A    789\n",
       "X    787\n",
       "Y    786\n",
       "N    783\n",
       "Q    783\n",
       "F    775\n",
       "G    773\n",
       "E    768\n",
       "B    766\n",
       "V    764\n",
       "L    761\n",
       "R    758\n",
       "I    755\n",
       "O    753\n",
       "W    752\n",
       "S    748\n",
       "J    747\n",
       "K    739\n",
       "C    736\n",
       "H    734\n",
       "Z    734\n",
       "Name: letter, dtype: int64"
      ]
     },
     "execution_count": 12,
     "metadata": {},
     "output_type": "execute_result"
    }
   ],
   "source": [
    "y.value_counts()"
   ]
  },
  {
   "cell_type": "code",
   "execution_count": 13,
   "id": "db2f886d",
   "metadata": {},
   "outputs": [],
   "source": [
    "from sklearn.preprocessing import LabelEncoder\n",
    "le = LabelEncoder()\n",
    "y_le = le.fit_transform(y)"
   ]
  },
  {
   "cell_type": "code",
   "execution_count": 15,
   "id": "a4382fd2",
   "metadata": {},
   "outputs": [
    {
     "data": {
      "text/plain": [
       "array([19,  8,  3, ..., 19, 18,  0])"
      ]
     },
     "execution_count": 15,
     "metadata": {},
     "output_type": "execute_result"
    }
   ],
   "source": [
    "y_le"
   ]
  },
  {
   "cell_type": "markdown",
   "id": "401b1a7b",
   "metadata": {},
   "source": [
    "### One-hot encoding"
   ]
  },
  {
   "cell_type": "code",
   "execution_count": 17,
   "id": "0684528b",
   "metadata": {},
   "outputs": [],
   "source": [
    "from keras.utils import to_categorical"
   ]
  },
  {
   "cell_type": "code",
   "execution_count": 20,
   "id": "8ab8c23d",
   "metadata": {},
   "outputs": [],
   "source": [
    "data = [1,3,2,3,2,1,2,3,2,1,2,3,2]"
   ]
  },
  {
   "cell_type": "code",
   "execution_count": 21,
   "id": "0c73cc07",
   "metadata": {},
   "outputs": [
    {
     "data": {
      "text/plain": [
       "array([[0., 1., 0., 0.],\n",
       "       [0., 0., 0., 1.],\n",
       "       [0., 0., 1., 0.],\n",
       "       [0., 0., 0., 1.],\n",
       "       [0., 0., 1., 0.],\n",
       "       [0., 1., 0., 0.],\n",
       "       [0., 0., 1., 0.],\n",
       "       [0., 0., 0., 1.],\n",
       "       [0., 0., 1., 0.],\n",
       "       [0., 1., 0., 0.],\n",
       "       [0., 0., 1., 0.],\n",
       "       [0., 0., 0., 1.],\n",
       "       [0., 0., 1., 0.]], dtype=float32)"
      ]
     },
     "execution_count": 21,
     "metadata": {},
     "output_type": "execute_result"
    }
   ],
   "source": [
    "to_categorical(data)"
   ]
  },
  {
   "cell_type": "code",
   "execution_count": 22,
   "id": "632fd732",
   "metadata": {},
   "outputs": [],
   "source": [
    "y_ohe = to_categorical(y_le)"
   ]
  },
  {
   "cell_type": "code",
   "execution_count": 23,
   "id": "c48ac34c",
   "metadata": {},
   "outputs": [
    {
     "data": {
      "text/plain": [
       "array([[0., 0., 0., ..., 0., 0., 0.],\n",
       "       [0., 0., 0., ..., 0., 0., 0.],\n",
       "       [0., 0., 0., ..., 0., 0., 0.],\n",
       "       ...,\n",
       "       [0., 0., 0., ..., 0., 0., 0.],\n",
       "       [0., 0., 0., ..., 0., 0., 0.],\n",
       "       [1., 0., 0., ..., 0., 0., 0.]], dtype=float32)"
      ]
     },
     "execution_count": 23,
     "metadata": {},
     "output_type": "execute_result"
    }
   ],
   "source": [
    "y_ohe"
   ]
  },
  {
   "cell_type": "code",
   "execution_count": 24,
   "id": "eb13d582",
   "metadata": {},
   "outputs": [
    {
     "data": {
      "text/plain": [
       "(20000, 26)"
      ]
     },
     "execution_count": 24,
     "metadata": {},
     "output_type": "execute_result"
    }
   ],
   "source": [
    "y_ohe.shape"
   ]
  },
  {
   "cell_type": "markdown",
   "id": "eddf9b5a",
   "metadata": {},
   "source": [
    "### Cross validation"
   ]
  },
  {
   "cell_type": "code",
   "execution_count": 26,
   "id": "4630732e",
   "metadata": {},
   "outputs": [],
   "source": [
    "from sklearn.model_selection import train_test_split"
   ]
  },
  {
   "cell_type": "code",
   "execution_count": 27,
   "id": "384730cd",
   "metadata": {},
   "outputs": [],
   "source": [
    "x_train, x_test, y_train, y_test = train_test_split(\n",
    "    x, y_ohe, random_state=0)"
   ]
  },
  {
   "cell_type": "code",
   "execution_count": 28,
   "id": "65b0ca1c",
   "metadata": {},
   "outputs": [
    {
     "data": {
      "text/plain": [
       "(15000, 16)"
      ]
     },
     "execution_count": 28,
     "metadata": {},
     "output_type": "execute_result"
    }
   ],
   "source": [
    "x_train.shape"
   ]
  },
  {
   "cell_type": "code",
   "execution_count": 30,
   "id": "01c99800",
   "metadata": {},
   "outputs": [
    {
     "data": {
      "text/plain": [
       "(5000, 16)"
      ]
     },
     "execution_count": 30,
     "metadata": {},
     "output_type": "execute_result"
    }
   ],
   "source": [
    "x_test.shape"
   ]
  },
  {
   "cell_type": "markdown",
   "id": "036d1c46",
   "metadata": {},
   "source": [
    "### Build the Neural Network Model"
   ]
  },
  {
   "cell_type": "code",
   "execution_count": 34,
   "id": "39ec5af6",
   "metadata": {},
   "outputs": [],
   "source": [
    "model = Sequential()\n",
    "\n",
    "# Input layer\n",
    "model.add(Dense(16, input_shape=(16,), activation='relu'))\n",
    "\n",
    "model.add(Dense(32, activation='relu'))\n",
    "\n",
    "model.add(Dense(64, activation='relu'))\n",
    "\n",
    "model.add(Dense(32, activation='relu'))\n",
    "\n",
    "# Output layer\n",
    "model.add(Dense(26, activation='softmax'))"
   ]
  },
  {
   "cell_type": "code",
   "execution_count": 35,
   "id": "527cf40e",
   "metadata": {},
   "outputs": [
    {
     "name": "stdout",
     "output_type": "stream",
     "text": [
      "Model: \"sequential_2\"\n",
      "_________________________________________________________________\n",
      " Layer (type)                Output Shape              Param #   \n",
      "=================================================================\n",
      " dense_6 (Dense)             (None, 16)                272       \n",
      "                                                                 \n",
      " dense_7 (Dense)             (None, 32)                544       \n",
      "                                                                 \n",
      " dense_8 (Dense)             (None, 64)                2112      \n",
      "                                                                 \n",
      " dense_9 (Dense)             (None, 32)                2080      \n",
      "                                                                 \n",
      " dense_10 (Dense)            (None, 26)                858       \n",
      "                                                                 \n",
      "=================================================================\n",
      "Total params: 5,866\n",
      "Trainable params: 5,866\n",
      "Non-trainable params: 0\n",
      "_________________________________________________________________\n"
     ]
    }
   ],
   "source": [
    "model.summary()"
   ]
  },
  {
   "cell_type": "markdown",
   "id": "864cdbbc",
   "metadata": {},
   "source": [
    "### Compile the model"
   ]
  },
  {
   "cell_type": "code",
   "execution_count": 37,
   "id": "26864c71",
   "metadata": {},
   "outputs": [],
   "source": [
    "model.compile(loss='categorical_crossentropy', optimizer='adam',\n",
    "             metrics=['accuracy'])"
   ]
  },
  {
   "cell_type": "markdown",
   "id": "3c7d7b19",
   "metadata": {},
   "source": [
    "### Train the model"
   ]
  },
  {
   "cell_type": "code",
   "execution_count": 39,
   "id": "5743ff01",
   "metadata": {},
   "outputs": [
    {
     "name": "stdout",
     "output_type": "stream",
     "text": [
      "Epoch 1/50\n",
      "750/750 [==============================] - 6s 3ms/step - loss: 2.0768 - accuracy: 0.3817\n",
      "Epoch 2/50\n",
      "750/750 [==============================] - 2s 3ms/step - loss: 1.2369 - accuracy: 0.6292\n",
      "Epoch 3/50\n",
      "750/750 [==============================] - 2s 3ms/step - loss: 0.9762 - accuracy: 0.7022\n",
      "Epoch 4/50\n",
      "750/750 [==============================] - 2s 3ms/step - loss: 0.8231 - accuracy: 0.7495\n",
      "Epoch 5/50\n",
      "750/750 [==============================] - 2s 3ms/step - loss: 0.7184 - accuracy: 0.7791\n",
      "Epoch 6/50\n",
      "750/750 [==============================] - 2s 3ms/step - loss: 0.6441 - accuracy: 0.8008\n",
      "Epoch 7/50\n",
      "750/750 [==============================] - 2s 3ms/step - loss: 0.5888 - accuracy: 0.8192\n",
      "Epoch 8/50\n",
      "750/750 [==============================] - 2s 3ms/step - loss: 0.5449 - accuracy: 0.8280\n",
      "Epoch 9/50\n",
      "750/750 [==============================] - 2s 3ms/step - loss: 0.5057 - accuracy: 0.8433\n",
      "Epoch 10/50\n",
      "750/750 [==============================] - 2s 3ms/step - loss: 0.4693 - accuracy: 0.8523\n",
      "Epoch 11/50\n",
      "750/750 [==============================] - 2s 3ms/step - loss: 0.4493 - accuracy: 0.8565\n",
      "Epoch 12/50\n",
      "750/750 [==============================] - 2s 3ms/step - loss: 0.4273 - accuracy: 0.8649\n",
      "Epoch 13/50\n",
      "750/750 [==============================] - 2s 3ms/step - loss: 0.4028 - accuracy: 0.8723\n",
      "Epoch 14/50\n",
      "750/750 [==============================] - 2s 3ms/step - loss: 0.3867 - accuracy: 0.8761\n",
      "Epoch 15/50\n",
      "750/750 [==============================] - 2s 3ms/step - loss: 0.3799 - accuracy: 0.8781\n",
      "Epoch 16/50\n",
      "750/750 [==============================] - 2s 3ms/step - loss: 0.3608 - accuracy: 0.8833\n",
      "Epoch 17/50\n",
      "750/750 [==============================] - 2s 3ms/step - loss: 0.3420 - accuracy: 0.8889\n",
      "Epoch 18/50\n",
      "750/750 [==============================] - 2s 3ms/step - loss: 0.3374 - accuracy: 0.8897\n",
      "Epoch 19/50\n",
      "750/750 [==============================] - 2s 3ms/step - loss: 0.3266 - accuracy: 0.8921\n",
      "Epoch 20/50\n",
      "750/750 [==============================] - 2s 3ms/step - loss: 0.3162 - accuracy: 0.8949\n",
      "Epoch 21/50\n",
      "750/750 [==============================] - 2s 3ms/step - loss: 0.3053 - accuracy: 0.8989\n",
      "Epoch 22/50\n",
      "750/750 [==============================] - 2s 3ms/step - loss: 0.3027 - accuracy: 0.9002\n",
      "Epoch 23/50\n",
      "750/750 [==============================] - 2s 3ms/step - loss: 0.2971 - accuracy: 0.8995\n",
      "Epoch 24/50\n",
      "750/750 [==============================] - 2s 3ms/step - loss: 0.2824 - accuracy: 0.9069\n",
      "Epoch 25/50\n",
      "750/750 [==============================] - 2s 3ms/step - loss: 0.2817 - accuracy: 0.9069\n",
      "Epoch 26/50\n",
      "750/750 [==============================] - 3s 4ms/step - loss: 0.2782 - accuracy: 0.9065\n",
      "Epoch 27/50\n",
      "750/750 [==============================] - 3s 4ms/step - loss: 0.2692 - accuracy: 0.9117\n",
      "Epoch 28/50\n",
      "750/750 [==============================] - 3s 4ms/step - loss: 0.2606 - accuracy: 0.9138\n",
      "Epoch 29/50\n",
      "750/750 [==============================] - 2s 3ms/step - loss: 0.2540 - accuracy: 0.9133\n",
      "Epoch 30/50\n",
      "750/750 [==============================] - 2s 3ms/step - loss: 0.2474 - accuracy: 0.9172\n",
      "Epoch 31/50\n",
      "750/750 [==============================] - 2s 3ms/step - loss: 0.2444 - accuracy: 0.9197\n",
      "Epoch 32/50\n",
      "750/750 [==============================] - 2s 3ms/step - loss: 0.2387 - accuracy: 0.9211\n",
      "Epoch 33/50\n",
      "750/750 [==============================] - 2s 3ms/step - loss: 0.2350 - accuracy: 0.9241\n",
      "Epoch 34/50\n",
      "750/750 [==============================] - 2s 3ms/step - loss: 0.2328 - accuracy: 0.9209\n",
      "Epoch 35/50\n",
      "750/750 [==============================] - 2s 3ms/step - loss: 0.2311 - accuracy: 0.9208\n",
      "Epoch 36/50\n",
      "750/750 [==============================] - 3s 3ms/step - loss: 0.2206 - accuracy: 0.9268\n",
      "Epoch 37/50\n",
      "750/750 [==============================] - 3s 3ms/step - loss: 0.2221 - accuracy: 0.9257\n",
      "Epoch 38/50\n",
      "750/750 [==============================] - 2s 3ms/step - loss: 0.2172 - accuracy: 0.9262\n",
      "Epoch 39/50\n",
      "750/750 [==============================] - 2s 3ms/step - loss: 0.2157 - accuracy: 0.9288\n",
      "Epoch 40/50\n",
      "750/750 [==============================] - 2s 3ms/step - loss: 0.2096 - accuracy: 0.9292\n",
      "Epoch 41/50\n",
      "750/750 [==============================] - 2s 3ms/step - loss: 0.2144 - accuracy: 0.9273\n",
      "Epoch 42/50\n",
      "750/750 [==============================] - 2s 3ms/step - loss: 0.2114 - accuracy: 0.9277\n",
      "Epoch 43/50\n",
      "750/750 [==============================] - 2s 3ms/step - loss: 0.2014 - accuracy: 0.9307\n",
      "Epoch 44/50\n",
      "750/750 [==============================] - 2s 3ms/step - loss: 0.2039 - accuracy: 0.9335\n",
      "Epoch 45/50\n",
      "750/750 [==============================] - 3s 4ms/step - loss: 0.1935 - accuracy: 0.9328\n",
      "Epoch 46/50\n",
      "750/750 [==============================] - 2s 3ms/step - loss: 0.1916 - accuracy: 0.9349\n",
      "Epoch 47/50\n",
      "750/750 [==============================] - 2s 3ms/step - loss: 0.1969 - accuracy: 0.9336\n",
      "Epoch 48/50\n",
      "750/750 [==============================] - 2s 3ms/step - loss: 0.1876 - accuracy: 0.9341\n",
      "Epoch 49/50\n",
      "750/750 [==============================] - 2s 3ms/step - loss: 0.1963 - accuracy: 0.9337\n",
      "Epoch 50/50\n",
      "750/750 [==============================] - 2s 3ms/step - loss: 0.1850 - accuracy: 0.9388\n"
     ]
    },
    {
     "data": {
      "text/plain": [
       "<keras.callbacks.History at 0x7ff3301f0cd0>"
      ]
     },
     "execution_count": 39,
     "metadata": {},
     "output_type": "execute_result"
    }
   ],
   "source": [
    "model.fit(x_train, y_train, epochs=50, batch_size=20)"
   ]
  },
  {
   "cell_type": "markdown",
   "id": "ce612ca0",
   "metadata": {},
   "source": [
    "### Evaluate the model"
   ]
  },
  {
   "cell_type": "code",
   "execution_count": 41,
   "id": "798c0f1a",
   "metadata": {},
   "outputs": [
    {
     "name": "stdout",
     "output_type": "stream",
     "text": [
      "5000/5000 [==============================] - 11s 2ms/step - loss: 0.2480 - accuracy: 0.9166\n"
     ]
    },
    {
     "data": {
      "text/plain": [
       "[0.24800285696983337, 0.9165999889373779]"
      ]
     },
     "execution_count": 41,
     "metadata": {},
     "output_type": "execute_result"
    }
   ],
   "source": [
    "model.evaluate(x_test, y_test, batch_size=1)"
   ]
  },
  {
   "cell_type": "markdown",
   "id": "10e47fc0",
   "metadata": {},
   "source": [
    "### Predict on the new data"
   ]
  },
  {
   "cell_type": "code",
   "execution_count": 43,
   "id": "c11720b4",
   "metadata": {},
   "outputs": [],
   "source": [
    "new = [[3,4,5,6,1,7,8,4,3,7,14,8,3,9,0,8]]"
   ]
  },
  {
   "cell_type": "code",
   "execution_count": 44,
   "id": "5aa6ed95",
   "metadata": {},
   "outputs": [
    {
     "name": "stdout",
     "output_type": "stream",
     "text": [
      "1/1 [==============================] - 0s 188ms/step\n"
     ]
    },
    {
     "data": {
      "text/plain": [
       "array([[1.1397400e-26, 0.0000000e+00, 3.7230862e-21, 2.4790852e-16,\n",
       "        0.0000000e+00, 8.6764899e-16, 3.2509571e-33, 9.9949077e-27,\n",
       "        5.7876398e-17, 1.2651338e-26, 2.0405788e-23, 6.1558190e-30,\n",
       "        9.4995281e-25, 2.3670821e-26, 8.5528337e-23, 4.1287730e-22,\n",
       "        9.3472600e-17, 0.0000000e+00, 1.7659100e-19, 2.8033253e-13,\n",
       "        1.0063911e-14, 9.9971753e-01, 1.1726041e-19, 3.3818407e-18,\n",
       "        2.8242261e-04, 0.0000000e+00]], dtype=float32)"
      ]
     },
     "execution_count": 44,
     "metadata": {},
     "output_type": "execute_result"
    }
   ],
   "source": [
    "model.predict(new)"
   ]
  },
  {
   "cell_type": "code",
   "execution_count": 45,
   "id": "ecd74f47",
   "metadata": {},
   "outputs": [],
   "source": [
    "import numpy as np"
   ]
  },
  {
   "cell_type": "code",
   "execution_count": 46,
   "id": "14a93109",
   "metadata": {},
   "outputs": [
    {
     "name": "stdout",
     "output_type": "stream",
     "text": [
      "1/1 [==============================] - 0s 69ms/step\n"
     ]
    },
    {
     "data": {
      "text/plain": [
       "21"
      ]
     },
     "execution_count": 46,
     "metadata": {},
     "output_type": "execute_result"
    }
   ],
   "source": [
    "np.argmax(model.predict(new))"
   ]
  },
  {
   "cell_type": "code",
   "execution_count": 50,
   "id": "c7e8aa1b",
   "metadata": {},
   "outputs": [
    {
     "data": {
      "text/plain": [
       "'V'"
      ]
     },
     "execution_count": 50,
     "metadata": {},
     "output_type": "execute_result"
    }
   ],
   "source": [
    "le.inverse_transform([np.argmax(model.predict(new, verbose=0))])[0]"
   ]
  },
  {
   "cell_type": "code",
   "execution_count": 57,
   "id": "29bf3ef4",
   "metadata": {},
   "outputs": [],
   "source": [
    "new1 = [[4,4,5,5,4,7,9,4,5,7,7,8,3,7,6,6]]\n",
    "new2 = [[5,9,7,7,6,5,7,1,6,9,8,10,3,8,3,8]]"
   ]
  },
  {
   "cell_type": "code",
   "execution_count": 58,
   "id": "82845fb8",
   "metadata": {},
   "outputs": [
    {
     "data": {
      "text/plain": [
       "'I'"
      ]
     },
     "execution_count": 58,
     "metadata": {},
     "output_type": "execute_result"
    }
   ],
   "source": [
    "le.inverse_transform([np.argmax(model.predict(new1, verbose=0))])[0]"
   ]
  },
  {
   "cell_type": "code",
   "execution_count": 59,
   "id": "bdf0cb00",
   "metadata": {},
   "outputs": [
    {
     "data": {
      "text/plain": [
       "'K'"
      ]
     },
     "execution_count": 59,
     "metadata": {},
     "output_type": "execute_result"
    }
   ],
   "source": [
    "le.inverse_transform([np.argmax(model.predict(new2, verbose=0))])[0]"
   ]
  },
  {
   "cell_type": "code",
   "execution_count": null,
   "id": "488537e8",
   "metadata": {},
   "outputs": [],
   "source": []
  }
 ],
 "metadata": {
  "kernelspec": {
   "display_name": "Python 3",
   "language": "python",
   "name": "python3"
  },
  "language_info": {
   "codemirror_mode": {
    "name": "ipython",
    "version": 3
   },
   "file_extension": ".py",
   "mimetype": "text/x-python",
   "name": "python",
   "nbconvert_exporter": "python",
   "pygments_lexer": "ipython3",
   "version": "3.8.10"
  }
 },
 "nbformat": 4,
 "nbformat_minor": 5
}
