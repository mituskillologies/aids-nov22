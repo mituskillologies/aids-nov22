{
 "cells": [
  {
   "cell_type": "code",
   "execution_count": 1,
   "metadata": {},
   "outputs": [],
   "source": [
    "# Dataset: Salary_Data.csv\n",
    "# Location: https://mitu.co.in/dataset"
   ]
  },
  {
   "cell_type": "code",
   "execution_count": 2,
   "metadata": {},
   "outputs": [],
   "source": [
    "import pandas as pd"
   ]
  },
  {
   "cell_type": "markdown",
   "metadata": {},
   "source": [
    "### Import the dataset"
   ]
  },
  {
   "cell_type": "code",
   "execution_count": 7,
   "metadata": {},
   "outputs": [],
   "source": [
    "df = pd.read_csv('Salary_Data.csv')\n",
    "x = df['YearsExperience'].values\n",
    "x = x.reshape(30,1)\n",
    "y = df['Salary']"
   ]
  },
  {
   "cell_type": "markdown",
   "metadata": {},
   "source": [
    "### Hold out method"
   ]
  },
  {
   "cell_type": "code",
   "execution_count": 4,
   "metadata": {},
   "outputs": [],
   "source": [
    "from sklearn.model_selection import train_test_split\n",
    "x_train, x_test, y_train, y_test = train_test_split(\n",
    "    x, y, random_state=0, test_size=0.25)"
   ]
  },
  {
   "cell_type": "markdown",
   "metadata": {},
   "source": [
    "### Build Linear Regression model"
   ]
  },
  {
   "cell_type": "code",
   "execution_count": 5,
   "metadata": {},
   "outputs": [
    {
     "name": "stdout",
     "output_type": "stream",
     "text": [
      "Training: 0.9395413526983522\n",
      "Testing : 0.9779208335417602\n"
     ]
    }
   ],
   "source": [
    "from sklearn.linear_model import LinearRegression\n",
    "reg = LinearRegression()\n",
    "reg.fit(x_train, y_train)\n",
    "print('Training:', reg.score(x_train, y_train))\n",
    "print('Testing :', reg.score(x_test, y_test))"
   ]
  },
  {
   "cell_type": "markdown",
   "metadata": {},
   "source": [
    "### K-Fold Method"
   ]
  },
  {
   "cell_type": "code",
   "execution_count": 9,
   "metadata": {},
   "outputs": [],
   "source": [
    "from sklearn.model_selection import KFold"
   ]
  },
  {
   "cell_type": "code",
   "execution_count": 10,
   "metadata": {},
   "outputs": [],
   "source": [
    "kf = KFold(n_splits=5, random_state=0, shuffle=True)"
   ]
  },
  {
   "cell_type": "code",
   "execution_count": 14,
   "metadata": {},
   "outputs": [
    {
     "name": "stdout",
     "output_type": "stream",
     "text": [
      "[ 0  1  3  4  5  6  7  8  9 11 12 14 15 16 17 18 19 20 21 22 23 25 27 29] \n",
      " [ 2 10 13 24 26 28]\n",
      "[ 0  1  2  3  4  6  7  8  9 10 12 13 14 15 18 19 20 21 23 24 25 26 28 29] \n",
      " [ 5 11 16 17 22 27]\n",
      "[ 0  2  3  4  5  6  7  9 10 11 12 13 15 16 17 18 19 21 22 24 25 26 27 28] \n",
      " [ 1  8 14 20 23 29]\n",
      "[ 0  1  2  3  5  8 10 11 12 13 14 15 16 17 20 21 22 23 24 25 26 27 28 29] \n",
      " [ 4  6  7  9 18 19]\n",
      "[ 1  2  4  5  6  7  8  9 10 11 13 14 16 17 18 19 20 22 23 24 26 27 28 29] \n",
      " [ 0  3 12 15 21 25]\n"
     ]
    }
   ],
   "source": [
    "for train, test in kf.split(x, y):\n",
    "    print(train,'\\n',test)"
   ]
  },
  {
   "cell_type": "markdown",
   "metadata": {},
   "source": [
    "### Extract train and test data"
   ]
  },
  {
   "cell_type": "code",
   "execution_count": 22,
   "metadata": {},
   "outputs": [
    {
     "name": "stdout",
     "output_type": "stream",
     "text": [
      "Train: [ 1.1  1.3  2.   2.2  2.9  3.   3.2  3.2  3.7  4.   4.   4.5  4.9  5.1\n",
      "  5.3  5.9  6.   6.8  7.1  7.9  8.2  9.   9.6 10.5]\n",
      "Test : [ 1.5  3.9  4.1  8.7  9.5 10.3]\n",
      "Train: [ 1.1  1.3  1.5  2.   2.2  3.   3.2  3.2  3.7  3.9  4.   4.1  4.5  4.9\n",
      "  5.9  6.   6.8  7.1  8.2  8.7  9.   9.5 10.3 10.5]\n",
      "Test : [2.9 4.  5.1 5.3 7.9 9.6]\n",
      "Train: [ 1.1  1.5  2.   2.2  2.9  3.   3.2  3.7  3.9  4.   4.   4.1  4.9  5.1\n",
      "  5.3  5.9  6.   7.1  7.9  8.7  9.   9.5  9.6 10.3]\n",
      "Test : [ 1.3  3.2  4.5  6.8  8.2 10.5]\n",
      "Train: [ 1.1  1.3  1.5  2.   2.9  3.2  3.9  4.   4.   4.1  4.5  4.9  5.1  5.3\n",
      "  6.8  7.1  7.9  8.2  8.7  9.   9.5  9.6 10.3 10.5]\n",
      "Test : [2.2 3.  3.2 3.7 5.9 6. ]\n",
      "Train: [ 1.3  1.5  2.2  2.9  3.   3.2  3.2  3.7  3.9  4.   4.1  4.5  5.1  5.3\n",
      "  5.9  6.   6.8  7.9  8.2  8.7  9.5  9.6 10.3 10.5]\n",
      "Test : [1.1 2.  4.  4.9 7.1 9. ]\n"
     ]
    }
   ],
   "source": [
    "for train, test in kf.split(x, y):\n",
    "    print('Train:', x[train].flatten())\n",
    "    print('Test :', x[test].flatten())"
   ]
  },
  {
   "cell_type": "markdown",
   "metadata": {},
   "source": [
    "### Apply Kfold"
   ]
  },
  {
   "cell_type": "code",
   "execution_count": 25,
   "metadata": {},
   "outputs": [
    {
     "name": "stdout",
     "output_type": "stream",
     "text": [
      "Train Accuracy: 0.9411949620562126\n",
      "Test Accuracy : 0.988169515729126 \n",
      "\n",
      "Train Accuracy: 0.9612542631539638\n",
      "Test Accuracy : 0.925791742981774 \n",
      "\n",
      "Train Accuracy: 0.9635908373578711\n",
      "Test Accuracy : 0.9252385867407542 \n",
      "\n",
      "Train Accuracy: 0.9625173469912476\n",
      "Test Accuracy : 0.8785189123539611 \n",
      "\n",
      "Train Accuracy: 0.9540189535215173\n",
      "Test Accuracy : 0.9646120517676184 \n",
      "\n"
     ]
    }
   ],
   "source": [
    "for train, test in kf.split(x, y):\n",
    "    reg.fit(x[train], y[train])\n",
    "    print('Train Accuracy:', reg.score(x[train], y[train]))\n",
    "    print('Test Accuracy :', reg.score(x[test],  y[test]),'\\n')"
   ]
  },
  {
   "cell_type": "markdown",
   "metadata": {},
   "source": [
    "### Apply the Kfold to classification"
   ]
  },
  {
   "cell_type": "code",
   "execution_count": 35,
   "metadata": {},
   "outputs": [
    {
     "data": {
      "text/plain": [
       "(1372, 5)"
      ]
     },
     "execution_count": 35,
     "metadata": {},
     "output_type": "execute_result"
    }
   ],
   "source": [
    "df = pd.read_csv('banknotes.csv')\n",
    "\n",
    "x = df.drop('Class', axis = 1)\n",
    "y = df['Class']\n",
    "\n",
    "df.shape"
   ]
  },
  {
   "cell_type": "code",
   "execution_count": 30,
   "metadata": {},
   "outputs": [],
   "source": [
    "from sklearn.tree import DecisionTreeClassifier\n",
    "from sklearn.metrics import accuracy_score\n",
    "dt = DecisionTreeClassifier(random_state=0)"
   ]
  },
  {
   "cell_type": "code",
   "execution_count": 34,
   "metadata": {},
   "outputs": [
    {
     "name": "stdout",
     "output_type": "stream",
     "text": [
      "Accuracy: 0.9927272727272727\n",
      "Accuracy: 0.9854545454545455\n",
      "Accuracy: 0.9671532846715328\n",
      "Accuracy: 0.9963503649635036\n",
      "Accuracy: 0.9671532846715328\n"
     ]
    }
   ],
   "source": [
    "for train, test in kf.split(x, y):\n",
    "    dt.fit(x.iloc[train,:], y[train])\n",
    "    y_pred = dt.predict(x.iloc[test,:])\n",
    "    print('Accuracy:', accuracy_score(y[test], y_pred))"
   ]
  },
  {
   "cell_type": "code",
   "execution_count": 36,
   "metadata": {},
   "outputs": [
    {
     "data": {
      "text/plain": [
       "0    762\n",
       "1    610\n",
       "Name: Class, dtype: int64"
      ]
     },
     "execution_count": 36,
     "metadata": {},
     "output_type": "execute_result"
    }
   ],
   "source": [
    "y.value_counts()"
   ]
  },
  {
   "cell_type": "code",
   "execution_count": 41,
   "metadata": {},
   "outputs": [
    {
     "name": "stdout",
     "output_type": "stream",
     "text": [
      "0: 55.54\n",
      "1: 44.46\n"
     ]
    }
   ],
   "source": [
    "print('0:', round(y.value_counts()[0]/len(y) * 100, 2))\n",
    "print('1:', round(y.value_counts()[1]/len(y) * 100, 2))"
   ]
  },
  {
   "cell_type": "code",
   "execution_count": 47,
   "metadata": {},
   "outputs": [],
   "source": [
    "from sklearn.model_selection import train_test_split\n",
    "x_train, x_test, y_train, y_test = train_test_split(\n",
    "    x, y, stratify=y, random_state=0)"
   ]
  },
  {
   "cell_type": "markdown",
   "metadata": {},
   "source": [
    "### Training balance"
   ]
  },
  {
   "cell_type": "code",
   "execution_count": 48,
   "metadata": {},
   "outputs": [
    {
     "name": "stdout",
     "output_type": "stream",
     "text": [
      "0: 55.49\n",
      "1: 44.51\n"
     ]
    }
   ],
   "source": [
    "print('0:', round(y_train.value_counts()[0]/len(y_train) * 100, 2))\n",
    "print('1:', round(y_train.value_counts()[1]/len(y_train) * 100, 2))"
   ]
  },
  {
   "cell_type": "markdown",
   "metadata": {},
   "source": [
    "### Testing balance"
   ]
  },
  {
   "cell_type": "code",
   "execution_count": 49,
   "metadata": {},
   "outputs": [
    {
     "name": "stdout",
     "output_type": "stream",
     "text": [
      "0: 55.69\n",
      "1: 44.31\n"
     ]
    }
   ],
   "source": [
    "print('0:', round(y_test.value_counts()[0]/len(y_test) * 100, 2))\n",
    "print('1:', round(y_test.value_counts()[1]/len(y_test) * 100, 2))"
   ]
  },
  {
   "cell_type": "code",
   "execution_count": 51,
   "metadata": {},
   "outputs": [
    {
     "name": "stdout",
     "output_type": "stream",
     "text": [
      "0: 55.15\n",
      "1: 44.85\n",
      "\n",
      "0: 55.79\n",
      "1: 44.21\n",
      "\n",
      "0: 54.64\n",
      "1: 45.36\n",
      "\n",
      "0: 55.92\n",
      "1: 44.08\n",
      "\n",
      "0: 56.19\n",
      "1: 43.81\n",
      "\n"
     ]
    }
   ],
   "source": [
    "for train, test in kf.split(x, y):\n",
    "    print('0:', round(y[train].value_counts()[0]/len(y[train]) * 100, 2))\n",
    "    print('1:', round(y[train].value_counts()[1]/len(y[train]) * 100, 2))\n",
    "    print()"
   ]
  },
  {
   "cell_type": "markdown",
   "metadata": {},
   "source": [
    "### Stratified K Fold"
   ]
  },
  {
   "cell_type": "code",
   "execution_count": 53,
   "metadata": {},
   "outputs": [],
   "source": [
    "from sklearn.model_selection import StratifiedKFold"
   ]
  },
  {
   "cell_type": "code",
   "execution_count": 54,
   "metadata": {},
   "outputs": [],
   "source": [
    "skf = StratifiedKFold(n_splits=5, random_state=0, shuffle=True)"
   ]
  },
  {
   "cell_type": "code",
   "execution_count": 55,
   "metadata": {},
   "outputs": [
    {
     "name": "stdout",
     "output_type": "stream",
     "text": [
      "0: 55.52\n",
      "1: 44.48\n",
      "\n",
      "0: 55.52\n",
      "1: 44.48\n",
      "\n",
      "0: 55.56\n",
      "1: 44.44\n",
      "\n",
      "0: 55.56\n",
      "1: 44.44\n",
      "\n",
      "0: 55.56\n",
      "1: 44.44\n",
      "\n"
     ]
    }
   ],
   "source": [
    "for train, test in skf.split(x, y):\n",
    "    print('0:', round(y[train].value_counts()[0]/len(y[train]) * 100, 2))\n",
    "    print('1:', round(y[train].value_counts()[1]/len(y[train]) * 100, 2))\n",
    "    print()"
   ]
  },
  {
   "cell_type": "code",
   "execution_count": 56,
   "metadata": {},
   "outputs": [
    {
     "name": "stdout",
     "output_type": "stream",
     "text": [
      "Accuracy: 0.9854545454545455\n",
      "Accuracy: 0.9927272727272727\n",
      "Accuracy: 0.9890510948905109\n",
      "Accuracy: 0.9854014598540146\n",
      "Accuracy: 0.9671532846715328\n"
     ]
    }
   ],
   "source": [
    "for train, test in skf.split(x, y):\n",
    "    dt.fit(x.iloc[train,:], y[train])\n",
    "    y_pred = dt.predict(x.iloc[test,:])\n",
    "    print('Accuracy:', accuracy_score(y[test], y_pred))"
   ]
  },
  {
   "cell_type": "code",
   "execution_count": null,
   "metadata": {},
   "outputs": [],
   "source": []
  }
 ],
 "metadata": {
  "kernelspec": {
   "display_name": "Python 3",
   "language": "python",
   "name": "python3"
  },
  "language_info": {
   "codemirror_mode": {
    "name": "ipython",
    "version": 3
   },
   "file_extension": ".py",
   "mimetype": "text/x-python",
   "name": "python",
   "nbconvert_exporter": "python",
   "pygments_lexer": "ipython3",
   "version": "3.8.10"
  }
 },
 "nbformat": 4,
 "nbformat_minor": 4
}
