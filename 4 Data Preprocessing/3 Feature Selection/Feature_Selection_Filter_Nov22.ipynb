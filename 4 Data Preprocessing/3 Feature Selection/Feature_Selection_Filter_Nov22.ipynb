{
 "cells": [
  {
   "cell_type": "code",
   "execution_count": 1,
   "metadata": {},
   "outputs": [],
   "source": [
    "# Filter based Feature Selection\n",
    "# Dataset: satandar.csv\n",
    "# Location: https://mitu.co.in/dataset"
   ]
  },
  {
   "cell_type": "markdown",
   "metadata": {},
   "source": [
    "### Univariate method"
   ]
  },
  {
   "cell_type": "code",
   "execution_count": 2,
   "metadata": {},
   "outputs": [],
   "source": [
    "import pandas as pd"
   ]
  },
  {
   "cell_type": "code",
   "execution_count": 6,
   "metadata": {},
   "outputs": [],
   "source": [
    "df = pd.read_csv('/home/mitu/programs/ml/fs/satandar.csv',\n",
    "                nrows = 40000)"
   ]
  },
  {
   "cell_type": "code",
   "execution_count": 7,
   "metadata": {},
   "outputs": [
    {
     "data": {
      "text/plain": [
       "(40000, 371)"
      ]
     },
     "execution_count": 7,
     "metadata": {},
     "output_type": "execute_result"
    }
   ],
   "source": [
    "df.shape"
   ]
  },
  {
   "cell_type": "code",
   "execution_count": 8,
   "metadata": {},
   "outputs": [
    {
     "data": {
      "text/plain": [
       "Index(['ID', 'var3', 'var15', 'imp_ent_var16_ult1', 'imp_op_var39_comer_ult1',\n",
       "       'imp_op_var39_comer_ult3', 'imp_op_var40_comer_ult1',\n",
       "       'imp_op_var40_comer_ult3', 'imp_op_var40_efect_ult1',\n",
       "       'imp_op_var40_efect_ult3',\n",
       "       ...\n",
       "       'saldo_medio_var33_hace2', 'saldo_medio_var33_hace3',\n",
       "       'saldo_medio_var33_ult1', 'saldo_medio_var33_ult3',\n",
       "       'saldo_medio_var44_hace2', 'saldo_medio_var44_hace3',\n",
       "       'saldo_medio_var44_ult1', 'saldo_medio_var44_ult3', 'var38', 'TARGET'],\n",
       "      dtype='object', length=371)"
      ]
     },
     "execution_count": 8,
     "metadata": {},
     "output_type": "execute_result"
    }
   ],
   "source": [
    "df.columns"
   ]
  },
  {
   "cell_type": "markdown",
   "metadata": {},
   "source": [
    "### Import the class"
   ]
  },
  {
   "cell_type": "code",
   "execution_count": 10,
   "metadata": {},
   "outputs": [],
   "source": [
    "from sklearn.feature_selection import VarianceThreshold"
   ]
  },
  {
   "cell_type": "code",
   "execution_count": 17,
   "metadata": {},
   "outputs": [],
   "source": [
    "vt = VarianceThreshold(threshold=1.0)"
   ]
  },
  {
   "cell_type": "code",
   "execution_count": 18,
   "metadata": {},
   "outputs": [
    {
     "data": {
      "text/plain": [
       "VarianceThreshold(threshold=1.0)"
      ]
     },
     "execution_count": 18,
     "metadata": {},
     "output_type": "execute_result"
    }
   ],
   "source": [
    "vt.fit(df)"
   ]
  },
  {
   "cell_type": "code",
   "execution_count": 19,
   "metadata": {},
   "outputs": [],
   "source": [
    "newdf = df.iloc[:,vt.get_support()]"
   ]
  },
  {
   "cell_type": "code",
   "execution_count": 20,
   "metadata": {},
   "outputs": [
    {
     "data": {
      "text/plain": [
       "(40000, 173)"
      ]
     },
     "execution_count": 20,
     "metadata": {},
     "output_type": "execute_result"
    }
   ],
   "source": [
    "newdf.shape"
   ]
  },
  {
   "cell_type": "markdown",
   "metadata": {},
   "source": [
    "### Multivatiate Feature Selection"
   ]
  },
  {
   "cell_type": "markdown",
   "metadata": {},
   "source": [
    "##### Duplicate Feature Removal"
   ]
  },
  {
   "cell_type": "code",
   "execution_count": 22,
   "metadata": {},
   "outputs": [
    {
     "data": {
      "text/plain": [
       "(40000, 371)"
      ]
     },
     "execution_count": 22,
     "metadata": {},
     "output_type": "execute_result"
    }
   ],
   "source": [
    "df.shape"
   ]
  },
  {
   "cell_type": "code",
   "execution_count": 23,
   "metadata": {},
   "outputs": [
    {
     "data": {
      "text/plain": [
       "0        False\n",
       "1        False\n",
       "2        False\n",
       "3        False\n",
       "4        False\n",
       "         ...  \n",
       "39995    False\n",
       "39996    False\n",
       "39997    False\n",
       "39998    False\n",
       "39999    False\n",
       "Length: 40000, dtype: bool"
      ]
     },
     "execution_count": 23,
     "metadata": {},
     "output_type": "execute_result"
    }
   ],
   "source": [
    "df.duplicated()"
   ]
  },
  {
   "cell_type": "code",
   "execution_count": 24,
   "metadata": {},
   "outputs": [],
   "source": [
    "df_t = df.T"
   ]
  },
  {
   "cell_type": "code",
   "execution_count": 25,
   "metadata": {},
   "outputs": [
    {
     "data": {
      "text/plain": [
       "(371, 40000)"
      ]
     },
     "execution_count": 25,
     "metadata": {},
     "output_type": "execute_result"
    }
   ],
   "source": [
    "df_t.shape"
   ]
  },
  {
   "cell_type": "code",
   "execution_count": 26,
   "metadata": {},
   "outputs": [
    {
     "data": {
      "text/html": [
       "<div>\n",
       "<style scoped>\n",
       "    .dataframe tbody tr th:only-of-type {\n",
       "        vertical-align: middle;\n",
       "    }\n",
       "\n",
       "    .dataframe tbody tr th {\n",
       "        vertical-align: top;\n",
       "    }\n",
       "\n",
       "    .dataframe thead th {\n",
       "        text-align: right;\n",
       "    }\n",
       "</style>\n",
       "<table border=\"1\" class=\"dataframe\">\n",
       "  <thead>\n",
       "    <tr style=\"text-align: right;\">\n",
       "      <th></th>\n",
       "      <th>0</th>\n",
       "      <th>1</th>\n",
       "      <th>2</th>\n",
       "      <th>3</th>\n",
       "      <th>4</th>\n",
       "      <th>5</th>\n",
       "      <th>6</th>\n",
       "      <th>7</th>\n",
       "      <th>8</th>\n",
       "      <th>9</th>\n",
       "      <th>...</th>\n",
       "      <th>39990</th>\n",
       "      <th>39991</th>\n",
       "      <th>39992</th>\n",
       "      <th>39993</th>\n",
       "      <th>39994</th>\n",
       "      <th>39995</th>\n",
       "      <th>39996</th>\n",
       "      <th>39997</th>\n",
       "      <th>39998</th>\n",
       "      <th>39999</th>\n",
       "    </tr>\n",
       "  </thead>\n",
       "  <tbody>\n",
       "    <tr>\n",
       "      <th>ID</th>\n",
       "      <td>1.00</td>\n",
       "      <td>3.00</td>\n",
       "      <td>4.00</td>\n",
       "      <td>8.00</td>\n",
       "      <td>10.000000</td>\n",
       "      <td>13.00</td>\n",
       "      <td>14.00</td>\n",
       "      <td>18.00</td>\n",
       "      <td>20.00</td>\n",
       "      <td>23.00</td>\n",
       "      <td>...</td>\n",
       "      <td>80020.000000</td>\n",
       "      <td>80025.00</td>\n",
       "      <td>80028.00</td>\n",
       "      <td>80029.00</td>\n",
       "      <td>80032.00</td>\n",
       "      <td>80034.00</td>\n",
       "      <td>80040.00</td>\n",
       "      <td>80041.00</td>\n",
       "      <td>80042.00</td>\n",
       "      <td>80045.00</td>\n",
       "    </tr>\n",
       "    <tr>\n",
       "      <th>var3</th>\n",
       "      <td>2.00</td>\n",
       "      <td>2.00</td>\n",
       "      <td>2.00</td>\n",
       "      <td>2.00</td>\n",
       "      <td>2.000000</td>\n",
       "      <td>2.00</td>\n",
       "      <td>2.00</td>\n",
       "      <td>2.00</td>\n",
       "      <td>2.00</td>\n",
       "      <td>2.00</td>\n",
       "      <td>...</td>\n",
       "      <td>2.000000</td>\n",
       "      <td>2.00</td>\n",
       "      <td>2.00</td>\n",
       "      <td>2.00</td>\n",
       "      <td>2.00</td>\n",
       "      <td>2.00</td>\n",
       "      <td>2.00</td>\n",
       "      <td>6.00</td>\n",
       "      <td>2.00</td>\n",
       "      <td>2.00</td>\n",
       "    </tr>\n",
       "    <tr>\n",
       "      <th>var15</th>\n",
       "      <td>23.00</td>\n",
       "      <td>34.00</td>\n",
       "      <td>23.00</td>\n",
       "      <td>37.00</td>\n",
       "      <td>39.000000</td>\n",
       "      <td>23.00</td>\n",
       "      <td>27.00</td>\n",
       "      <td>26.00</td>\n",
       "      <td>45.00</td>\n",
       "      <td>25.00</td>\n",
       "      <td>...</td>\n",
       "      <td>33.000000</td>\n",
       "      <td>23.00</td>\n",
       "      <td>40.00</td>\n",
       "      <td>24.00</td>\n",
       "      <td>23.00</td>\n",
       "      <td>23.00</td>\n",
       "      <td>44.00</td>\n",
       "      <td>32.00</td>\n",
       "      <td>37.00</td>\n",
       "      <td>24.00</td>\n",
       "    </tr>\n",
       "    <tr>\n",
       "      <th>imp_ent_var16_ult1</th>\n",
       "      <td>0.00</td>\n",
       "      <td>0.00</td>\n",
       "      <td>0.00</td>\n",
       "      <td>0.00</td>\n",
       "      <td>0.000000</td>\n",
       "      <td>0.00</td>\n",
       "      <td>0.00</td>\n",
       "      <td>0.00</td>\n",
       "      <td>0.00</td>\n",
       "      <td>0.00</td>\n",
       "      <td>...</td>\n",
       "      <td>0.000000</td>\n",
       "      <td>0.00</td>\n",
       "      <td>0.00</td>\n",
       "      <td>0.00</td>\n",
       "      <td>0.00</td>\n",
       "      <td>0.00</td>\n",
       "      <td>0.00</td>\n",
       "      <td>0.00</td>\n",
       "      <td>0.00</td>\n",
       "      <td>0.00</td>\n",
       "    </tr>\n",
       "    <tr>\n",
       "      <th>imp_op_var39_comer_ult1</th>\n",
       "      <td>0.00</td>\n",
       "      <td>0.00</td>\n",
       "      <td>0.00</td>\n",
       "      <td>195.00</td>\n",
       "      <td>0.000000</td>\n",
       "      <td>0.00</td>\n",
       "      <td>0.00</td>\n",
       "      <td>0.00</td>\n",
       "      <td>0.00</td>\n",
       "      <td>0.00</td>\n",
       "      <td>...</td>\n",
       "      <td>0.000000</td>\n",
       "      <td>0.00</td>\n",
       "      <td>0.00</td>\n",
       "      <td>0.00</td>\n",
       "      <td>262.50</td>\n",
       "      <td>0.00</td>\n",
       "      <td>0.00</td>\n",
       "      <td>893.70</td>\n",
       "      <td>0.00</td>\n",
       "      <td>0.00</td>\n",
       "    </tr>\n",
       "    <tr>\n",
       "      <th>...</th>\n",
       "      <td>...</td>\n",
       "      <td>...</td>\n",
       "      <td>...</td>\n",
       "      <td>...</td>\n",
       "      <td>...</td>\n",
       "      <td>...</td>\n",
       "      <td>...</td>\n",
       "      <td>...</td>\n",
       "      <td>...</td>\n",
       "      <td>...</td>\n",
       "      <td>...</td>\n",
       "      <td>...</td>\n",
       "      <td>...</td>\n",
       "      <td>...</td>\n",
       "      <td>...</td>\n",
       "      <td>...</td>\n",
       "      <td>...</td>\n",
       "      <td>...</td>\n",
       "      <td>...</td>\n",
       "      <td>...</td>\n",
       "      <td>...</td>\n",
       "    </tr>\n",
       "    <tr>\n",
       "      <th>saldo_medio_var44_hace3</th>\n",
       "      <td>0.00</td>\n",
       "      <td>0.00</td>\n",
       "      <td>0.00</td>\n",
       "      <td>0.00</td>\n",
       "      <td>0.000000</td>\n",
       "      <td>0.00</td>\n",
       "      <td>0.00</td>\n",
       "      <td>0.00</td>\n",
       "      <td>0.00</td>\n",
       "      <td>0.00</td>\n",
       "      <td>...</td>\n",
       "      <td>0.000000</td>\n",
       "      <td>0.00</td>\n",
       "      <td>0.00</td>\n",
       "      <td>0.00</td>\n",
       "      <td>0.00</td>\n",
       "      <td>0.00</td>\n",
       "      <td>0.00</td>\n",
       "      <td>0.00</td>\n",
       "      <td>0.00</td>\n",
       "      <td>0.00</td>\n",
       "    </tr>\n",
       "    <tr>\n",
       "      <th>saldo_medio_var44_ult1</th>\n",
       "      <td>0.00</td>\n",
       "      <td>0.00</td>\n",
       "      <td>0.00</td>\n",
       "      <td>0.00</td>\n",
       "      <td>0.000000</td>\n",
       "      <td>0.00</td>\n",
       "      <td>0.00</td>\n",
       "      <td>0.00</td>\n",
       "      <td>0.00</td>\n",
       "      <td>0.00</td>\n",
       "      <td>...</td>\n",
       "      <td>0.000000</td>\n",
       "      <td>0.00</td>\n",
       "      <td>0.00</td>\n",
       "      <td>0.00</td>\n",
       "      <td>0.00</td>\n",
       "      <td>0.00</td>\n",
       "      <td>0.00</td>\n",
       "      <td>0.00</td>\n",
       "      <td>0.00</td>\n",
       "      <td>0.00</td>\n",
       "    </tr>\n",
       "    <tr>\n",
       "      <th>saldo_medio_var44_ult3</th>\n",
       "      <td>0.00</td>\n",
       "      <td>0.00</td>\n",
       "      <td>0.00</td>\n",
       "      <td>0.00</td>\n",
       "      <td>0.000000</td>\n",
       "      <td>0.00</td>\n",
       "      <td>0.00</td>\n",
       "      <td>0.00</td>\n",
       "      <td>0.00</td>\n",
       "      <td>0.00</td>\n",
       "      <td>...</td>\n",
       "      <td>0.000000</td>\n",
       "      <td>0.00</td>\n",
       "      <td>0.00</td>\n",
       "      <td>0.00</td>\n",
       "      <td>0.00</td>\n",
       "      <td>0.00</td>\n",
       "      <td>0.00</td>\n",
       "      <td>0.00</td>\n",
       "      <td>0.00</td>\n",
       "      <td>0.00</td>\n",
       "    </tr>\n",
       "    <tr>\n",
       "      <th>var38</th>\n",
       "      <td>39205.17</td>\n",
       "      <td>49278.03</td>\n",
       "      <td>67333.77</td>\n",
       "      <td>64007.97</td>\n",
       "      <td>117310.979016</td>\n",
       "      <td>87975.75</td>\n",
       "      <td>94956.66</td>\n",
       "      <td>251638.95</td>\n",
       "      <td>101962.02</td>\n",
       "      <td>356463.06</td>\n",
       "      <td>...</td>\n",
       "      <td>117310.979016</td>\n",
       "      <td>156128.04</td>\n",
       "      <td>162291.69</td>\n",
       "      <td>55900.74</td>\n",
       "      <td>94626.15</td>\n",
       "      <td>122652.48</td>\n",
       "      <td>60683.61</td>\n",
       "      <td>45665.58</td>\n",
       "      <td>46276.14</td>\n",
       "      <td>81858.66</td>\n",
       "    </tr>\n",
       "    <tr>\n",
       "      <th>TARGET</th>\n",
       "      <td>0.00</td>\n",
       "      <td>0.00</td>\n",
       "      <td>0.00</td>\n",
       "      <td>0.00</td>\n",
       "      <td>0.000000</td>\n",
       "      <td>0.00</td>\n",
       "      <td>0.00</td>\n",
       "      <td>0.00</td>\n",
       "      <td>0.00</td>\n",
       "      <td>0.00</td>\n",
       "      <td>...</td>\n",
       "      <td>0.000000</td>\n",
       "      <td>0.00</td>\n",
       "      <td>0.00</td>\n",
       "      <td>0.00</td>\n",
       "      <td>0.00</td>\n",
       "      <td>0.00</td>\n",
       "      <td>0.00</td>\n",
       "      <td>0.00</td>\n",
       "      <td>0.00</td>\n",
       "      <td>0.00</td>\n",
       "    </tr>\n",
       "  </tbody>\n",
       "</table>\n",
       "<p>371 rows × 40000 columns</p>\n",
       "</div>"
      ],
      "text/plain": [
       "                            0         1         2         3      \\\n",
       "ID                           1.00      3.00      4.00      8.00   \n",
       "var3                         2.00      2.00      2.00      2.00   \n",
       "var15                       23.00     34.00     23.00     37.00   \n",
       "imp_ent_var16_ult1           0.00      0.00      0.00      0.00   \n",
       "imp_op_var39_comer_ult1      0.00      0.00      0.00    195.00   \n",
       "...                           ...       ...       ...       ...   \n",
       "saldo_medio_var44_hace3      0.00      0.00      0.00      0.00   \n",
       "saldo_medio_var44_ult1       0.00      0.00      0.00      0.00   \n",
       "saldo_medio_var44_ult3       0.00      0.00      0.00      0.00   \n",
       "var38                    39205.17  49278.03  67333.77  64007.97   \n",
       "TARGET                       0.00      0.00      0.00      0.00   \n",
       "\n",
       "                                 4         5         6          7      \\\n",
       "ID                           10.000000     13.00     14.00      18.00   \n",
       "var3                          2.000000      2.00      2.00       2.00   \n",
       "var15                        39.000000     23.00     27.00      26.00   \n",
       "imp_ent_var16_ult1            0.000000      0.00      0.00       0.00   \n",
       "imp_op_var39_comer_ult1       0.000000      0.00      0.00       0.00   \n",
       "...                                ...       ...       ...        ...   \n",
       "saldo_medio_var44_hace3       0.000000      0.00      0.00       0.00   \n",
       "saldo_medio_var44_ult1        0.000000      0.00      0.00       0.00   \n",
       "saldo_medio_var44_ult3        0.000000      0.00      0.00       0.00   \n",
       "var38                    117310.979016  87975.75  94956.66  251638.95   \n",
       "TARGET                        0.000000      0.00      0.00       0.00   \n",
       "\n",
       "                             8          9      ...          39990      39991  \\\n",
       "ID                           20.00      23.00  ...   80020.000000   80025.00   \n",
       "var3                          2.00       2.00  ...       2.000000       2.00   \n",
       "var15                        45.00      25.00  ...      33.000000      23.00   \n",
       "imp_ent_var16_ult1            0.00       0.00  ...       0.000000       0.00   \n",
       "imp_op_var39_comer_ult1       0.00       0.00  ...       0.000000       0.00   \n",
       "...                            ...        ...  ...            ...        ...   \n",
       "saldo_medio_var44_hace3       0.00       0.00  ...       0.000000       0.00   \n",
       "saldo_medio_var44_ult1        0.00       0.00  ...       0.000000       0.00   \n",
       "saldo_medio_var44_ult3        0.00       0.00  ...       0.000000       0.00   \n",
       "var38                    101962.02  356463.06  ...  117310.979016  156128.04   \n",
       "TARGET                        0.00       0.00  ...       0.000000       0.00   \n",
       "\n",
       "                             39992     39993     39994      39995     39996  \\\n",
       "ID                        80028.00  80029.00  80032.00   80034.00  80040.00   \n",
       "var3                          2.00      2.00      2.00       2.00      2.00   \n",
       "var15                        40.00     24.00     23.00      23.00     44.00   \n",
       "imp_ent_var16_ult1            0.00      0.00      0.00       0.00      0.00   \n",
       "imp_op_var39_comer_ult1       0.00      0.00    262.50       0.00      0.00   \n",
       "...                            ...       ...       ...        ...       ...   \n",
       "saldo_medio_var44_hace3       0.00      0.00      0.00       0.00      0.00   \n",
       "saldo_medio_var44_ult1        0.00      0.00      0.00       0.00      0.00   \n",
       "saldo_medio_var44_ult3        0.00      0.00      0.00       0.00      0.00   \n",
       "var38                    162291.69  55900.74  94626.15  122652.48  60683.61   \n",
       "TARGET                        0.00      0.00      0.00       0.00      0.00   \n",
       "\n",
       "                            39997     39998     39999  \n",
       "ID                       80041.00  80042.00  80045.00  \n",
       "var3                         6.00      2.00      2.00  \n",
       "var15                       32.00     37.00     24.00  \n",
       "imp_ent_var16_ult1           0.00      0.00      0.00  \n",
       "imp_op_var39_comer_ult1    893.70      0.00      0.00  \n",
       "...                           ...       ...       ...  \n",
       "saldo_medio_var44_hace3      0.00      0.00      0.00  \n",
       "saldo_medio_var44_ult1       0.00      0.00      0.00  \n",
       "saldo_medio_var44_ult3       0.00      0.00      0.00  \n",
       "var38                    45665.58  46276.14  81858.66  \n",
       "TARGET                       0.00      0.00      0.00  \n",
       "\n",
       "[371 rows x 40000 columns]"
      ]
     },
     "execution_count": 26,
     "metadata": {},
     "output_type": "execute_result"
    }
   ],
   "source": [
    "df_t"
   ]
  },
  {
   "cell_type": "code",
   "execution_count": 28,
   "metadata": {},
   "outputs": [
    {
     "data": {
      "text/plain": [
       "79"
      ]
     },
     "execution_count": 28,
     "metadata": {},
     "output_type": "execute_result"
    }
   ],
   "source": [
    "sum(df_t.duplicated())"
   ]
  },
  {
   "cell_type": "code",
   "execution_count": 29,
   "metadata": {},
   "outputs": [],
   "source": [
    "df_t.drop_duplicates(inplace=True)"
   ]
  },
  {
   "cell_type": "code",
   "execution_count": 30,
   "metadata": {},
   "outputs": [
    {
     "data": {
      "text/plain": [
       "(292, 40000)"
      ]
     },
     "execution_count": 30,
     "metadata": {},
     "output_type": "execute_result"
    }
   ],
   "source": [
    "df_t.shape"
   ]
  },
  {
   "cell_type": "code",
   "execution_count": 31,
   "metadata": {},
   "outputs": [],
   "source": [
    "df = df_t.T"
   ]
  },
  {
   "cell_type": "code",
   "execution_count": 32,
   "metadata": {},
   "outputs": [
    {
     "data": {
      "text/plain": [
       "(40000, 292)"
      ]
     },
     "execution_count": 32,
     "metadata": {},
     "output_type": "execute_result"
    }
   ],
   "source": [
    "df.shape"
   ]
  },
  {
   "cell_type": "markdown",
   "metadata": {},
   "source": [
    "##### Correlated feature removal"
   ]
  },
  {
   "cell_type": "code",
   "execution_count": 35,
   "metadata": {},
   "outputs": [],
   "source": [
    "# Dataset: paribas.csv"
   ]
  },
  {
   "cell_type": "code",
   "execution_count": 40,
   "metadata": {},
   "outputs": [],
   "source": [
    "df = pd.read_csv('/home/mitu/programs/ml/fs/paribas.csv',\n",
    "                nrows=20000)"
   ]
  },
  {
   "cell_type": "code",
   "execution_count": 41,
   "metadata": {},
   "outputs": [
    {
     "data": {
      "text/plain": [
       "(20000, 133)"
      ]
     },
     "execution_count": 41,
     "metadata": {},
     "output_type": "execute_result"
    }
   ],
   "source": [
    "df.shape"
   ]
  },
  {
   "cell_type": "code",
   "execution_count": 42,
   "metadata": {},
   "outputs": [
    {
     "name": "stdout",
     "output_type": "stream",
     "text": [
      "<class 'pandas.core.frame.DataFrame'>\n",
      "RangeIndex: 20000 entries, 0 to 19999\n",
      "Columns: 133 entries, ID to v131\n",
      "dtypes: float64(108), int64(6), object(19)\n",
      "memory usage: 20.3+ MB\n"
     ]
    }
   ],
   "source": [
    "df.info()"
   ]
  },
  {
   "cell_type": "code",
   "execution_count": 43,
   "metadata": {},
   "outputs": [],
   "source": [
    "cols = ['int64','float64']"
   ]
  },
  {
   "cell_type": "code",
   "execution_count": 44,
   "metadata": {},
   "outputs": [],
   "source": [
    "numerical_columns = list(df.select_dtypes(include=cols).columns)"
   ]
  },
  {
   "cell_type": "code",
   "execution_count": 47,
   "metadata": {},
   "outputs": [],
   "source": [
    "df = df[numerical_columns]"
   ]
  },
  {
   "cell_type": "code",
   "execution_count": 49,
   "metadata": {},
   "outputs": [
    {
     "data": {
      "text/plain": [
       "(20000, 114)"
      ]
     },
     "execution_count": 49,
     "metadata": {},
     "output_type": "execute_result"
    }
   ],
   "source": [
    "df.shape"
   ]
  },
  {
   "cell_type": "code",
   "execution_count": 50,
   "metadata": {},
   "outputs": [],
   "source": [
    "correlated_features = set()\n",
    "correlation_matrix = df.corr()"
   ]
  },
  {
   "cell_type": "code",
   "execution_count": 51,
   "metadata": {},
   "outputs": [
    {
     "data": {
      "text/html": [
       "<div>\n",
       "<style scoped>\n",
       "    .dataframe tbody tr th:only-of-type {\n",
       "        vertical-align: middle;\n",
       "    }\n",
       "\n",
       "    .dataframe tbody tr th {\n",
       "        vertical-align: top;\n",
       "    }\n",
       "\n",
       "    .dataframe thead th {\n",
       "        text-align: right;\n",
       "    }\n",
       "</style>\n",
       "<table border=\"1\" class=\"dataframe\">\n",
       "  <thead>\n",
       "    <tr style=\"text-align: right;\">\n",
       "      <th></th>\n",
       "      <th>ID</th>\n",
       "      <th>target</th>\n",
       "      <th>v1</th>\n",
       "      <th>v2</th>\n",
       "      <th>v4</th>\n",
       "      <th>v5</th>\n",
       "      <th>v6</th>\n",
       "      <th>v7</th>\n",
       "      <th>v8</th>\n",
       "      <th>v9</th>\n",
       "      <th>...</th>\n",
       "      <th>v121</th>\n",
       "      <th>v122</th>\n",
       "      <th>v123</th>\n",
       "      <th>v124</th>\n",
       "      <th>v126</th>\n",
       "      <th>v127</th>\n",
       "      <th>v128</th>\n",
       "      <th>v129</th>\n",
       "      <th>v130</th>\n",
       "      <th>v131</th>\n",
       "    </tr>\n",
       "  </thead>\n",
       "  <tbody>\n",
       "    <tr>\n",
       "      <th>ID</th>\n",
       "      <td>1.000000</td>\n",
       "      <td>0.005830</td>\n",
       "      <td>0.004817</td>\n",
       "      <td>0.001134</td>\n",
       "      <td>-0.003499</td>\n",
       "      <td>0.002015</td>\n",
       "      <td>-0.010675</td>\n",
       "      <td>-0.002102</td>\n",
       "      <td>-0.002202</td>\n",
       "      <td>0.000506</td>\n",
       "      <td>...</td>\n",
       "      <td>0.017562</td>\n",
       "      <td>-0.001780</td>\n",
       "      <td>0.007956</td>\n",
       "      <td>0.001076</td>\n",
       "      <td>-0.003765</td>\n",
       "      <td>0.002461</td>\n",
       "      <td>0.001904</td>\n",
       "      <td>-0.004063</td>\n",
       "      <td>0.010092</td>\n",
       "      <td>-0.003948</td>\n",
       "    </tr>\n",
       "    <tr>\n",
       "      <th>target</th>\n",
       "      <td>0.005830</td>\n",
       "      <td>1.000000</td>\n",
       "      <td>-0.016746</td>\n",
       "      <td>0.042634</td>\n",
       "      <td>0.054891</td>\n",
       "      <td>0.009453</td>\n",
       "      <td>0.043471</td>\n",
       "      <td>0.034896</td>\n",
       "      <td>-0.024256</td>\n",
       "      <td>-0.003468</td>\n",
       "      <td>...</td>\n",
       "      <td>-0.047881</td>\n",
       "      <td>0.011872</td>\n",
       "      <td>-0.054317</td>\n",
       "      <td>-0.025463</td>\n",
       "      <td>0.008131</td>\n",
       "      <td>0.009637</td>\n",
       "      <td>0.025992</td>\n",
       "      <td>0.147257</td>\n",
       "      <td>-0.049180</td>\n",
       "      <td>0.022224</td>\n",
       "    </tr>\n",
       "    <tr>\n",
       "      <th>v1</th>\n",
       "      <td>0.004817</td>\n",
       "      <td>-0.016746</td>\n",
       "      <td>1.000000</td>\n",
       "      <td>-0.205826</td>\n",
       "      <td>-0.145037</td>\n",
       "      <td>-0.049337</td>\n",
       "      <td>-0.020251</td>\n",
       "      <td>0.089950</td>\n",
       "      <td>0.160309</td>\n",
       "      <td>-0.035394</td>\n",
       "      <td>...</td>\n",
       "      <td>0.340779</td>\n",
       "      <td>-0.137999</td>\n",
       "      <td>0.292999</td>\n",
       "      <td>0.164169</td>\n",
       "      <td>0.025936</td>\n",
       "      <td>-0.018762</td>\n",
       "      <td>-0.010806</td>\n",
       "      <td>-0.015788</td>\n",
       "      <td>0.253119</td>\n",
       "      <td>0.709122</td>\n",
       "    </tr>\n",
       "    <tr>\n",
       "      <th>v2</th>\n",
       "      <td>0.001134</td>\n",
       "      <td>0.042634</td>\n",
       "      <td>-0.205826</td>\n",
       "      <td>1.000000</td>\n",
       "      <td>0.542216</td>\n",
       "      <td>0.195646</td>\n",
       "      <td>0.025525</td>\n",
       "      <td>0.351704</td>\n",
       "      <td>-0.367639</td>\n",
       "      <td>-0.012757</td>\n",
       "      <td>...</td>\n",
       "      <td>-0.571877</td>\n",
       "      <td>0.169172</td>\n",
       "      <td>-0.592534</td>\n",
       "      <td>-0.261420</td>\n",
       "      <td>-0.111644</td>\n",
       "      <td>0.011387</td>\n",
       "      <td>0.259107</td>\n",
       "      <td>0.074142</td>\n",
       "      <td>-0.576703</td>\n",
       "      <td>0.183870</td>\n",
       "    </tr>\n",
       "    <tr>\n",
       "      <th>v4</th>\n",
       "      <td>-0.003499</td>\n",
       "      <td>0.054891</td>\n",
       "      <td>-0.145037</td>\n",
       "      <td>0.542216</td>\n",
       "      <td>1.000000</td>\n",
       "      <td>0.251530</td>\n",
       "      <td>0.387779</td>\n",
       "      <td>0.483067</td>\n",
       "      <td>-0.179696</td>\n",
       "      <td>-0.191921</td>\n",
       "      <td>...</td>\n",
       "      <td>-0.618385</td>\n",
       "      <td>0.058058</td>\n",
       "      <td>-0.711291</td>\n",
       "      <td>-0.063270</td>\n",
       "      <td>-0.130919</td>\n",
       "      <td>0.299857</td>\n",
       "      <td>0.487635</td>\n",
       "      <td>0.109600</td>\n",
       "      <td>-0.702047</td>\n",
       "      <td>0.304914</td>\n",
       "    </tr>\n",
       "    <tr>\n",
       "      <th>...</th>\n",
       "      <td>...</td>\n",
       "      <td>...</td>\n",
       "      <td>...</td>\n",
       "      <td>...</td>\n",
       "      <td>...</td>\n",
       "      <td>...</td>\n",
       "      <td>...</td>\n",
       "      <td>...</td>\n",
       "      <td>...</td>\n",
       "      <td>...</td>\n",
       "      <td>...</td>\n",
       "      <td>...</td>\n",
       "      <td>...</td>\n",
       "      <td>...</td>\n",
       "      <td>...</td>\n",
       "      <td>...</td>\n",
       "      <td>...</td>\n",
       "      <td>...</td>\n",
       "      <td>...</td>\n",
       "      <td>...</td>\n",
       "      <td>...</td>\n",
       "    </tr>\n",
       "    <tr>\n",
       "      <th>v127</th>\n",
       "      <td>0.002461</td>\n",
       "      <td>0.009637</td>\n",
       "      <td>-0.018762</td>\n",
       "      <td>0.011387</td>\n",
       "      <td>0.299857</td>\n",
       "      <td>-0.224641</td>\n",
       "      <td>0.169701</td>\n",
       "      <td>0.247932</td>\n",
       "      <td>-0.015149</td>\n",
       "      <td>0.123628</td>\n",
       "      <td>...</td>\n",
       "      <td>0.017564</td>\n",
       "      <td>0.094302</td>\n",
       "      <td>-0.162525</td>\n",
       "      <td>-0.050666</td>\n",
       "      <td>-0.079944</td>\n",
       "      <td>1.000000</td>\n",
       "      <td>-0.161000</td>\n",
       "      <td>-0.001564</td>\n",
       "      <td>-0.244848</td>\n",
       "      <td>0.054744</td>\n",
       "    </tr>\n",
       "    <tr>\n",
       "      <th>v128</th>\n",
       "      <td>0.001904</td>\n",
       "      <td>0.025992</td>\n",
       "      <td>-0.010806</td>\n",
       "      <td>0.259107</td>\n",
       "      <td>0.487635</td>\n",
       "      <td>0.600132</td>\n",
       "      <td>0.240302</td>\n",
       "      <td>0.088061</td>\n",
       "      <td>0.019486</td>\n",
       "      <td>-0.268033</td>\n",
       "      <td>...</td>\n",
       "      <td>-0.372598</td>\n",
       "      <td>-0.043031</td>\n",
       "      <td>-0.256838</td>\n",
       "      <td>0.279839</td>\n",
       "      <td>-0.154822</td>\n",
       "      <td>-0.161000</td>\n",
       "      <td>1.000000</td>\n",
       "      <td>0.059893</td>\n",
       "      <td>-0.287794</td>\n",
       "      <td>0.243623</td>\n",
       "    </tr>\n",
       "    <tr>\n",
       "      <th>v129</th>\n",
       "      <td>-0.004063</td>\n",
       "      <td>0.147257</td>\n",
       "      <td>-0.015788</td>\n",
       "      <td>0.074142</td>\n",
       "      <td>0.109600</td>\n",
       "      <td>0.045623</td>\n",
       "      <td>0.050278</td>\n",
       "      <td>0.041350</td>\n",
       "      <td>-0.019332</td>\n",
       "      <td>-0.035212</td>\n",
       "      <td>...</td>\n",
       "      <td>-0.090282</td>\n",
       "      <td>0.005121</td>\n",
       "      <td>-0.101049</td>\n",
       "      <td>-0.009529</td>\n",
       "      <td>-0.024423</td>\n",
       "      <td>-0.001564</td>\n",
       "      <td>0.059893</td>\n",
       "      <td>1.000000</td>\n",
       "      <td>-0.082056</td>\n",
       "      <td>0.045038</td>\n",
       "    </tr>\n",
       "    <tr>\n",
       "      <th>v130</th>\n",
       "      <td>0.010092</td>\n",
       "      <td>-0.049180</td>\n",
       "      <td>0.253119</td>\n",
       "      <td>-0.576703</td>\n",
       "      <td>-0.702047</td>\n",
       "      <td>-0.240718</td>\n",
       "      <td>-0.304129</td>\n",
       "      <td>-0.625145</td>\n",
       "      <td>0.323090</td>\n",
       "      <td>0.084667</td>\n",
       "      <td>...</td>\n",
       "      <td>0.809328</td>\n",
       "      <td>-0.190182</td>\n",
       "      <td>0.727563</td>\n",
       "      <td>0.227784</td>\n",
       "      <td>0.080568</td>\n",
       "      <td>-0.244848</td>\n",
       "      <td>-0.287794</td>\n",
       "      <td>-0.082056</td>\n",
       "      <td>1.000000</td>\n",
       "      <td>-0.264040</td>\n",
       "    </tr>\n",
       "    <tr>\n",
       "      <th>v131</th>\n",
       "      <td>-0.003948</td>\n",
       "      <td>0.022224</td>\n",
       "      <td>0.709122</td>\n",
       "      <td>0.183870</td>\n",
       "      <td>0.304914</td>\n",
       "      <td>0.153459</td>\n",
       "      <td>0.153066</td>\n",
       "      <td>0.321801</td>\n",
       "      <td>-0.036547</td>\n",
       "      <td>-0.158470</td>\n",
       "      <td>...</td>\n",
       "      <td>-0.249248</td>\n",
       "      <td>-0.015075</td>\n",
       "      <td>-0.179715</td>\n",
       "      <td>0.030289</td>\n",
       "      <td>-0.030868</td>\n",
       "      <td>0.054744</td>\n",
       "      <td>0.243623</td>\n",
       "      <td>0.045038</td>\n",
       "      <td>-0.264040</td>\n",
       "      <td>1.000000</td>\n",
       "    </tr>\n",
       "  </tbody>\n",
       "</table>\n",
       "<p>114 rows × 114 columns</p>\n",
       "</div>"
      ],
      "text/plain": [
       "              ID    target        v1        v2        v4        v5        v6  \\\n",
       "ID      1.000000  0.005830  0.004817  0.001134 -0.003499  0.002015 -0.010675   \n",
       "target  0.005830  1.000000 -0.016746  0.042634  0.054891  0.009453  0.043471   \n",
       "v1      0.004817 -0.016746  1.000000 -0.205826 -0.145037 -0.049337 -0.020251   \n",
       "v2      0.001134  0.042634 -0.205826  1.000000  0.542216  0.195646  0.025525   \n",
       "v4     -0.003499  0.054891 -0.145037  0.542216  1.000000  0.251530  0.387779   \n",
       "...          ...       ...       ...       ...       ...       ...       ...   \n",
       "v127    0.002461  0.009637 -0.018762  0.011387  0.299857 -0.224641  0.169701   \n",
       "v128    0.001904  0.025992 -0.010806  0.259107  0.487635  0.600132  0.240302   \n",
       "v129   -0.004063  0.147257 -0.015788  0.074142  0.109600  0.045623  0.050278   \n",
       "v130    0.010092 -0.049180  0.253119 -0.576703 -0.702047 -0.240718 -0.304129   \n",
       "v131   -0.003948  0.022224  0.709122  0.183870  0.304914  0.153459  0.153066   \n",
       "\n",
       "              v7        v8        v9  ...      v121      v122      v123  \\\n",
       "ID     -0.002102 -0.002202  0.000506  ...  0.017562 -0.001780  0.007956   \n",
       "target  0.034896 -0.024256 -0.003468  ... -0.047881  0.011872 -0.054317   \n",
       "v1      0.089950  0.160309 -0.035394  ...  0.340779 -0.137999  0.292999   \n",
       "v2      0.351704 -0.367639 -0.012757  ... -0.571877  0.169172 -0.592534   \n",
       "v4      0.483067 -0.179696 -0.191921  ... -0.618385  0.058058 -0.711291   \n",
       "...          ...       ...       ...  ...       ...       ...       ...   \n",
       "v127    0.247932 -0.015149  0.123628  ...  0.017564  0.094302 -0.162525   \n",
       "v128    0.088061  0.019486 -0.268033  ... -0.372598 -0.043031 -0.256838   \n",
       "v129    0.041350 -0.019332 -0.035212  ... -0.090282  0.005121 -0.101049   \n",
       "v130   -0.625145  0.323090  0.084667  ...  0.809328 -0.190182  0.727563   \n",
       "v131    0.321801 -0.036547 -0.158470  ... -0.249248 -0.015075 -0.179715   \n",
       "\n",
       "            v124      v126      v127      v128      v129      v130      v131  \n",
       "ID      0.001076 -0.003765  0.002461  0.001904 -0.004063  0.010092 -0.003948  \n",
       "target -0.025463  0.008131  0.009637  0.025992  0.147257 -0.049180  0.022224  \n",
       "v1      0.164169  0.025936 -0.018762 -0.010806 -0.015788  0.253119  0.709122  \n",
       "v2     -0.261420 -0.111644  0.011387  0.259107  0.074142 -0.576703  0.183870  \n",
       "v4     -0.063270 -0.130919  0.299857  0.487635  0.109600 -0.702047  0.304914  \n",
       "...          ...       ...       ...       ...       ...       ...       ...  \n",
       "v127   -0.050666 -0.079944  1.000000 -0.161000 -0.001564 -0.244848  0.054744  \n",
       "v128    0.279839 -0.154822 -0.161000  1.000000  0.059893 -0.287794  0.243623  \n",
       "v129   -0.009529 -0.024423 -0.001564  0.059893  1.000000 -0.082056  0.045038  \n",
       "v130    0.227784  0.080568 -0.244848 -0.287794 -0.082056  1.000000 -0.264040  \n",
       "v131    0.030289 -0.030868  0.054744  0.243623  0.045038 -0.264040  1.000000  \n",
       "\n",
       "[114 rows x 114 columns]"
      ]
     },
     "execution_count": 51,
     "metadata": {},
     "output_type": "execute_result"
    }
   ],
   "source": [
    "correlation_matrix"
   ]
  },
  {
   "cell_type": "code",
   "execution_count": 55,
   "metadata": {},
   "outputs": [],
   "source": [
    "# Column name will correlation > 80%\n",
    "for i in range(len(correlation_matrix.columns)):\n",
    "    for j in range(i):\n",
    "        if abs(correlation_matrix.iloc[i, j]) > 0.8:\n",
    "            colname = correlation_matrix.columns[i]\n",
    "            correlated_features.add(colname)"
   ]
  },
  {
   "cell_type": "code",
   "execution_count": 56,
   "metadata": {},
   "outputs": [
    {
     "data": {
      "text/plain": [
       "55"
      ]
     },
     "execution_count": 56,
     "metadata": {},
     "output_type": "execute_result"
    }
   ],
   "source": [
    "len(correlated_features)"
   ]
  },
  {
   "cell_type": "code",
   "execution_count": 58,
   "metadata": {},
   "outputs": [],
   "source": [
    "df.drop(correlated_features, axis=1, inplace=True)"
   ]
  },
  {
   "cell_type": "code",
   "execution_count": 59,
   "metadata": {},
   "outputs": [
    {
     "data": {
      "text/plain": [
       "(20000, 59)"
      ]
     },
     "execution_count": 59,
     "metadata": {},
     "output_type": "execute_result"
    }
   ],
   "source": [
    "df.shape"
   ]
  },
  {
   "cell_type": "code",
   "execution_count": null,
   "metadata": {},
   "outputs": [],
   "source": []
  }
 ],
 "metadata": {
  "kernelspec": {
   "display_name": "Python 3",
   "language": "python",
   "name": "python3"
  },
  "language_info": {
   "codemirror_mode": {
    "name": "ipython",
    "version": 3
   },
   "file_extension": ".py",
   "mimetype": "text/x-python",
   "name": "python",
   "nbconvert_exporter": "python",
   "pygments_lexer": "ipython3",
   "version": "3.8.10"
  }
 },
 "nbformat": 4,
 "nbformat_minor": 4
}
